{
  "nbformat": 4,
  "nbformat_minor": 0,
  "metadata": {
    "colab": {
      "provenance": [],
      "mount_file_id": "1khi_ZGqcYnMFwuIkztE4swcI58TLyNAn",
      "authorship_tag": "ABX9TyPQd6UxjMvB7qSH8F+w0rhP",
      "include_colab_link": true
    },
    "kernelspec": {
      "name": "python3",
      "display_name": "Python 3"
    },
    "language_info": {
      "name": "python"
    }
  },
  "cells": [
    {
      "cell_type": "markdown",
      "metadata": {
        "id": "view-in-github",
        "colab_type": "text"
      },
      "source": [
        "<a href=\"https://colab.research.google.com/github/Ayavie/arabic-fake-name-detection/blob/main/Dataset_generation.ipynb\" target=\"_parent\"><img src=\"https://colab.research.google.com/assets/colab-badge.svg\" alt=\"Open In Colab\"/></a>"
      ]
    },
    {
      "cell_type": "markdown",
      "source": [
        "#Data Generation Task\n",
        "This task will be broken down into multiple subtasks:\n",
        "1. Merging the multiple datasets files into one csv file.\n",
        "2. Create 3 Name Combiner\n",
        " \n",
        "\n",
        "*   50% valid names\n",
        "*   50% invalid names\n",
        "  * Distorted names\n",
        "  * female name in middle or last name\n",
        "\n",
        "3. Merge names into one final dataframe of two labels: [`\"name\"` , `\"valid\"`]\n"
      ],
      "metadata": {
        "id": "rQ4IbEawn0pn"
      }
    },
    {
      "cell_type": "markdown",
      "source": [
        "## 1.Merging the datasets."
      ],
      "metadata": {
        "id": "UNW9NRjX-fiC"
      }
    },
    {
      "cell_type": "code",
      "execution_count": null,
      "metadata": {
        "id": "JT_gjBsBjuzw"
      },
      "outputs": [],
      "source": [
        "#Imporing libraries\n",
        "import pandas as pd\n",
        "import numpy as np\n",
        "import matplotlib.pyplot as plt"
      ]
    },
    {
      "cell_type": "markdown",
      "source": [
        "Initial check on dataset csv quality"
      ],
      "metadata": {
        "id": "2bfLZ78FqMqy"
      }
    },
    {
      "cell_type": "code",
      "source": [
        "# Reading the csv file\n",
        "arab_names=pd.read_csv(\"/content/drive/MyDrive/Names web dataset/Arabic_names.csv\")\n",
        "arab_names.head(5)"
      ],
      "metadata": {
        "colab": {
          "base_uri": "https://localhost:8080/",
          "height": 206
        },
        "id": "yPFRHmt5om0R",
        "outputId": "9082561e-1353-4035-c70f-343a721a4749"
      },
      "execution_count": null,
      "outputs": [
        {
          "output_type": "execute_result",
          "data": {
            "text/plain": [
              "     Name Gender\n",
              "0  ابتسام      F\n",
              "1  ابتهاج      F\n",
              "2  ابتهال      F\n",
              "3  اجتهاد      F\n",
              "4  ازدهار      F"
            ],
            "text/html": [
              "\n",
              "  <div id=\"df-5d515a63-e022-4385-9c76-223b428c1470\">\n",
              "    <div class=\"colab-df-container\">\n",
              "      <div>\n",
              "<style scoped>\n",
              "    .dataframe tbody tr th:only-of-type {\n",
              "        vertical-align: middle;\n",
              "    }\n",
              "\n",
              "    .dataframe tbody tr th {\n",
              "        vertical-align: top;\n",
              "    }\n",
              "\n",
              "    .dataframe thead th {\n",
              "        text-align: right;\n",
              "    }\n",
              "</style>\n",
              "<table border=\"1\" class=\"dataframe\">\n",
              "  <thead>\n",
              "    <tr style=\"text-align: right;\">\n",
              "      <th></th>\n",
              "      <th>Name</th>\n",
              "      <th>Gender</th>\n",
              "    </tr>\n",
              "  </thead>\n",
              "  <tbody>\n",
              "    <tr>\n",
              "      <th>0</th>\n",
              "      <td>ابتسام</td>\n",
              "      <td>F</td>\n",
              "    </tr>\n",
              "    <tr>\n",
              "      <th>1</th>\n",
              "      <td>ابتهاج</td>\n",
              "      <td>F</td>\n",
              "    </tr>\n",
              "    <tr>\n",
              "      <th>2</th>\n",
              "      <td>ابتهال</td>\n",
              "      <td>F</td>\n",
              "    </tr>\n",
              "    <tr>\n",
              "      <th>3</th>\n",
              "      <td>اجتهاد</td>\n",
              "      <td>F</td>\n",
              "    </tr>\n",
              "    <tr>\n",
              "      <th>4</th>\n",
              "      <td>ازدهار</td>\n",
              "      <td>F</td>\n",
              "    </tr>\n",
              "  </tbody>\n",
              "</table>\n",
              "</div>\n",
              "      <button class=\"colab-df-convert\" onclick=\"convertToInteractive('df-5d515a63-e022-4385-9c76-223b428c1470')\"\n",
              "              title=\"Convert this dataframe to an interactive table.\"\n",
              "              style=\"display:none;\">\n",
              "        \n",
              "  <svg xmlns=\"http://www.w3.org/2000/svg\" height=\"24px\"viewBox=\"0 0 24 24\"\n",
              "       width=\"24px\">\n",
              "    <path d=\"M0 0h24v24H0V0z\" fill=\"none\"/>\n",
              "    <path d=\"M18.56 5.44l.94 2.06.94-2.06 2.06-.94-2.06-.94-.94-2.06-.94 2.06-2.06.94zm-11 1L8.5 8.5l.94-2.06 2.06-.94-2.06-.94L8.5 2.5l-.94 2.06-2.06.94zm10 10l.94 2.06.94-2.06 2.06-.94-2.06-.94-.94-2.06-.94 2.06-2.06.94z\"/><path d=\"M17.41 7.96l-1.37-1.37c-.4-.4-.92-.59-1.43-.59-.52 0-1.04.2-1.43.59L10.3 9.45l-7.72 7.72c-.78.78-.78 2.05 0 2.83L4 21.41c.39.39.9.59 1.41.59.51 0 1.02-.2 1.41-.59l7.78-7.78 2.81-2.81c.8-.78.8-2.07 0-2.86zM5.41 20L4 18.59l7.72-7.72 1.47 1.35L5.41 20z\"/>\n",
              "  </svg>\n",
              "      </button>\n",
              "      \n",
              "  <style>\n",
              "    .colab-df-container {\n",
              "      display:flex;\n",
              "      flex-wrap:wrap;\n",
              "      gap: 12px;\n",
              "    }\n",
              "\n",
              "    .colab-df-convert {\n",
              "      background-color: #E8F0FE;\n",
              "      border: none;\n",
              "      border-radius: 50%;\n",
              "      cursor: pointer;\n",
              "      display: none;\n",
              "      fill: #1967D2;\n",
              "      height: 32px;\n",
              "      padding: 0 0 0 0;\n",
              "      width: 32px;\n",
              "    }\n",
              "\n",
              "    .colab-df-convert:hover {\n",
              "      background-color: #E2EBFA;\n",
              "      box-shadow: 0px 1px 2px rgba(60, 64, 67, 0.3), 0px 1px 3px 1px rgba(60, 64, 67, 0.15);\n",
              "      fill: #174EA6;\n",
              "    }\n",
              "\n",
              "    [theme=dark] .colab-df-convert {\n",
              "      background-color: #3B4455;\n",
              "      fill: #D2E3FC;\n",
              "    }\n",
              "\n",
              "    [theme=dark] .colab-df-convert:hover {\n",
              "      background-color: #434B5C;\n",
              "      box-shadow: 0px 1px 3px 1px rgba(0, 0, 0, 0.15);\n",
              "      filter: drop-shadow(0px 1px 2px rgba(0, 0, 0, 0.3));\n",
              "      fill: #FFFFFF;\n",
              "    }\n",
              "  </style>\n",
              "\n",
              "      <script>\n",
              "        const buttonEl =\n",
              "          document.querySelector('#df-5d515a63-e022-4385-9c76-223b428c1470 button.colab-df-convert');\n",
              "        buttonEl.style.display =\n",
              "          google.colab.kernel.accessAllowed ? 'block' : 'none';\n",
              "\n",
              "        async function convertToInteractive(key) {\n",
              "          const element = document.querySelector('#df-5d515a63-e022-4385-9c76-223b428c1470');\n",
              "          const dataTable =\n",
              "            await google.colab.kernel.invokeFunction('convertToInteractive',\n",
              "                                                     [key], {});\n",
              "          if (!dataTable) return;\n",
              "\n",
              "          const docLinkHtml = 'Like what you see? Visit the ' +\n",
              "            '<a target=\"_blank\" href=https://colab.research.google.com/notebooks/data_table.ipynb>data table notebook</a>'\n",
              "            + ' to learn more about interactive tables.';\n",
              "          element.innerHTML = '';\n",
              "          dataTable['output_type'] = 'display_data';\n",
              "          await google.colab.output.renderOutput(dataTable, element);\n",
              "          const docLink = document.createElement('div');\n",
              "          docLink.innerHTML = docLinkHtml;\n",
              "          element.appendChild(docLink);\n",
              "        }\n",
              "      </script>\n",
              "    </div>\n",
              "  </div>\n",
              "  "
            ]
          },
          "metadata": {},
          "execution_count": 47
        }
      ]
    },
    {
      "cell_type": "code",
      "source": [
        "arab_names.info()"
      ],
      "metadata": {
        "colab": {
          "base_uri": "https://localhost:8080/"
        },
        "id": "WrVNZowppcdw",
        "outputId": "5b69b63c-3ad5-4005-bd72-27a442a51d7d"
      },
      "execution_count": null,
      "outputs": [
        {
          "output_type": "stream",
          "name": "stdout",
          "text": [
            "<class 'pandas.core.frame.DataFrame'>\n",
            "RangeIndex: 1405 entries, 0 to 1404\n",
            "Data columns (total 2 columns):\n",
            " #   Column  Non-Null Count  Dtype \n",
            "---  ------  --------------  ----- \n",
            " 0   Name    1405 non-null   object\n",
            " 1   Gender  1405 non-null   object\n",
            "dtypes: object(2)\n",
            "memory usage: 22.1+ KB\n"
          ]
        }
      ]
    },
    {
      "cell_type": "code",
      "source": [
        "print(\"Number of null values: \",arab_names.isnull().any().sum() )\n",
        "print(\"Number of duplicates values: \",arab_names.duplicated().sum() )"
      ],
      "metadata": {
        "colab": {
          "base_uri": "https://localhost:8080/"
        },
        "id": "aZsF-F8Zo2BU",
        "outputId": "f4ed7635-2ea3-4890-b2af-25be5a848af5"
      },
      "execution_count": null,
      "outputs": [
        {
          "output_type": "stream",
          "name": "stdout",
          "text": [
            "Number of null values:  0\n",
            "Number of duplicates values:  0\n"
          ]
        }
      ]
    },
    {
      "cell_type": "code",
      "source": [
        "#Check value counts of genders in csv file\n",
        "arab_names['Gender'].value_counts()"
      ],
      "metadata": {
        "colab": {
          "base_uri": "https://localhost:8080/"
        },
        "id": "zKp-zuaQpib1",
        "outputId": "0c52d5ce-005a-45ef-d3a2-e3ad75ef5cd2"
      },
      "execution_count": null,
      "outputs": [
        {
          "output_type": "execute_result",
          "data": {
            "text/plain": [
              "M    853\n",
              "F    552\n",
              "Name: Gender, dtype: int64"
            ]
          },
          "metadata": {},
          "execution_count": 50
        }
      ]
    },
    {
      "cell_type": "markdown",
      "source": [
        "This file is set. Now, we will add the other two text files into that csv while keeping its format."
      ],
      "metadata": {
        "id": "e3ED_SDUrGSF"
      }
    },
    {
      "cell_type": "code",
      "source": [
        "#read txt files of females and males into a dataframe and add column \"Gender\" to each\n",
        "f_df = pd.read_csv('/content/drive/MyDrive/Names web dataset/fnames.txt', header=None, names=[\"Name\"])\n",
        "f_df[\"Name\"]=f_df[\"Name\"].apply(lambda x: x.strip())\n",
        "f_df[\"Gender\"]=\"F\"\n",
        "\n",
        "m_df = pd.read_csv('/content/drive/MyDrive/Names web dataset/mnames.txt',  header=None, names=[\"Name\"])\n",
        "m_df[\"Name\"]=m_df[\"Name\"].apply(lambda x: x.strip())\n",
        "m_df[\"Gender\"]=\"M\""
      ],
      "metadata": {
        "id": "PI00nRkVpCb_"
      },
      "execution_count": null,
      "outputs": []
    },
    {
      "cell_type": "markdown",
      "source": [
        "Checking the new dataframes"
      ],
      "metadata": {
        "id": "ixLaJXJ-1sg9"
      }
    },
    {
      "cell_type": "code",
      "source": [
        "m_df.head(5)"
      ],
      "metadata": {
        "colab": {
          "base_uri": "https://localhost:8080/",
          "height": 206
        },
        "id": "mxH9o61Ax55g",
        "outputId": "c2cd7555-3db7-46ea-a358-c522bfb3d564"
      },
      "execution_count": null,
      "outputs": [
        {
          "output_type": "execute_result",
          "data": {
            "text/plain": [
              "       Name Gender\n",
              "0      أبان      M\n",
              "1   أبو بكر      M\n",
              "2  أبو حمزة      M\n",
              "3       أحد      M\n",
              "4      أحمد      M"
            ],
            "text/html": [
              "\n",
              "  <div id=\"df-348302e9-5a8c-4707-8fd1-2184e6ad7684\">\n",
              "    <div class=\"colab-df-container\">\n",
              "      <div>\n",
              "<style scoped>\n",
              "    .dataframe tbody tr th:only-of-type {\n",
              "        vertical-align: middle;\n",
              "    }\n",
              "\n",
              "    .dataframe tbody tr th {\n",
              "        vertical-align: top;\n",
              "    }\n",
              "\n",
              "    .dataframe thead th {\n",
              "        text-align: right;\n",
              "    }\n",
              "</style>\n",
              "<table border=\"1\" class=\"dataframe\">\n",
              "  <thead>\n",
              "    <tr style=\"text-align: right;\">\n",
              "      <th></th>\n",
              "      <th>Name</th>\n",
              "      <th>Gender</th>\n",
              "    </tr>\n",
              "  </thead>\n",
              "  <tbody>\n",
              "    <tr>\n",
              "      <th>0</th>\n",
              "      <td>أبان</td>\n",
              "      <td>M</td>\n",
              "    </tr>\n",
              "    <tr>\n",
              "      <th>1</th>\n",
              "      <td>أبو بكر</td>\n",
              "      <td>M</td>\n",
              "    </tr>\n",
              "    <tr>\n",
              "      <th>2</th>\n",
              "      <td>أبو حمزة</td>\n",
              "      <td>M</td>\n",
              "    </tr>\n",
              "    <tr>\n",
              "      <th>3</th>\n",
              "      <td>أحد</td>\n",
              "      <td>M</td>\n",
              "    </tr>\n",
              "    <tr>\n",
              "      <th>4</th>\n",
              "      <td>أحمد</td>\n",
              "      <td>M</td>\n",
              "    </tr>\n",
              "  </tbody>\n",
              "</table>\n",
              "</div>\n",
              "      <button class=\"colab-df-convert\" onclick=\"convertToInteractive('df-348302e9-5a8c-4707-8fd1-2184e6ad7684')\"\n",
              "              title=\"Convert this dataframe to an interactive table.\"\n",
              "              style=\"display:none;\">\n",
              "        \n",
              "  <svg xmlns=\"http://www.w3.org/2000/svg\" height=\"24px\"viewBox=\"0 0 24 24\"\n",
              "       width=\"24px\">\n",
              "    <path d=\"M0 0h24v24H0V0z\" fill=\"none\"/>\n",
              "    <path d=\"M18.56 5.44l.94 2.06.94-2.06 2.06-.94-2.06-.94-.94-2.06-.94 2.06-2.06.94zm-11 1L8.5 8.5l.94-2.06 2.06-.94-2.06-.94L8.5 2.5l-.94 2.06-2.06.94zm10 10l.94 2.06.94-2.06 2.06-.94-2.06-.94-.94-2.06-.94 2.06-2.06.94z\"/><path d=\"M17.41 7.96l-1.37-1.37c-.4-.4-.92-.59-1.43-.59-.52 0-1.04.2-1.43.59L10.3 9.45l-7.72 7.72c-.78.78-.78 2.05 0 2.83L4 21.41c.39.39.9.59 1.41.59.51 0 1.02-.2 1.41-.59l7.78-7.78 2.81-2.81c.8-.78.8-2.07 0-2.86zM5.41 20L4 18.59l7.72-7.72 1.47 1.35L5.41 20z\"/>\n",
              "  </svg>\n",
              "      </button>\n",
              "      \n",
              "  <style>\n",
              "    .colab-df-container {\n",
              "      display:flex;\n",
              "      flex-wrap:wrap;\n",
              "      gap: 12px;\n",
              "    }\n",
              "\n",
              "    .colab-df-convert {\n",
              "      background-color: #E8F0FE;\n",
              "      border: none;\n",
              "      border-radius: 50%;\n",
              "      cursor: pointer;\n",
              "      display: none;\n",
              "      fill: #1967D2;\n",
              "      height: 32px;\n",
              "      padding: 0 0 0 0;\n",
              "      width: 32px;\n",
              "    }\n",
              "\n",
              "    .colab-df-convert:hover {\n",
              "      background-color: #E2EBFA;\n",
              "      box-shadow: 0px 1px 2px rgba(60, 64, 67, 0.3), 0px 1px 3px 1px rgba(60, 64, 67, 0.15);\n",
              "      fill: #174EA6;\n",
              "    }\n",
              "\n",
              "    [theme=dark] .colab-df-convert {\n",
              "      background-color: #3B4455;\n",
              "      fill: #D2E3FC;\n",
              "    }\n",
              "\n",
              "    [theme=dark] .colab-df-convert:hover {\n",
              "      background-color: #434B5C;\n",
              "      box-shadow: 0px 1px 3px 1px rgba(0, 0, 0, 0.15);\n",
              "      filter: drop-shadow(0px 1px 2px rgba(0, 0, 0, 0.3));\n",
              "      fill: #FFFFFF;\n",
              "    }\n",
              "  </style>\n",
              "\n",
              "      <script>\n",
              "        const buttonEl =\n",
              "          document.querySelector('#df-348302e9-5a8c-4707-8fd1-2184e6ad7684 button.colab-df-convert');\n",
              "        buttonEl.style.display =\n",
              "          google.colab.kernel.accessAllowed ? 'block' : 'none';\n",
              "\n",
              "        async function convertToInteractive(key) {\n",
              "          const element = document.querySelector('#df-348302e9-5a8c-4707-8fd1-2184e6ad7684');\n",
              "          const dataTable =\n",
              "            await google.colab.kernel.invokeFunction('convertToInteractive',\n",
              "                                                     [key], {});\n",
              "          if (!dataTable) return;\n",
              "\n",
              "          const docLinkHtml = 'Like what you see? Visit the ' +\n",
              "            '<a target=\"_blank\" href=https://colab.research.google.com/notebooks/data_table.ipynb>data table notebook</a>'\n",
              "            + ' to learn more about interactive tables.';\n",
              "          element.innerHTML = '';\n",
              "          dataTable['output_type'] = 'display_data';\n",
              "          await google.colab.output.renderOutput(dataTable, element);\n",
              "          const docLink = document.createElement('div');\n",
              "          docLink.innerHTML = docLinkHtml;\n",
              "          element.appendChild(docLink);\n",
              "        }\n",
              "      </script>\n",
              "    </div>\n",
              "  </div>\n",
              "  "
            ]
          },
          "metadata": {},
          "execution_count": 52
        }
      ]
    },
    {
      "cell_type": "code",
      "source": [
        "m_df.info()"
      ],
      "metadata": {
        "colab": {
          "base_uri": "https://localhost:8080/"
        },
        "id": "gfvpZ3pd2Gsz",
        "outputId": "3c98b4f2-6367-4e43-c203-462306996b85"
      },
      "execution_count": null,
      "outputs": [
        {
          "output_type": "stream",
          "name": "stdout",
          "text": [
            "<class 'pandas.core.frame.DataFrame'>\n",
            "RangeIndex: 640 entries, 0 to 639\n",
            "Data columns (total 2 columns):\n",
            " #   Column  Non-Null Count  Dtype \n",
            "---  ------  --------------  ----- \n",
            " 0   Name    640 non-null    object\n",
            " 1   Gender  640 non-null    object\n",
            "dtypes: object(2)\n",
            "memory usage: 10.1+ KB\n"
          ]
        }
      ]
    },
    {
      "cell_type": "code",
      "source": [
        "m_df.head(5)"
      ],
      "metadata": {
        "colab": {
          "base_uri": "https://localhost:8080/",
          "height": 206
        },
        "id": "6prPX-h-v52k",
        "outputId": "467cdc0e-98e7-4063-c209-746d5a4b3052"
      },
      "execution_count": null,
      "outputs": [
        {
          "output_type": "execute_result",
          "data": {
            "text/plain": [
              "       Name Gender\n",
              "0      أبان      M\n",
              "1   أبو بكر      M\n",
              "2  أبو حمزة      M\n",
              "3       أحد      M\n",
              "4      أحمد      M"
            ],
            "text/html": [
              "\n",
              "  <div id=\"df-0dae1da4-6cfa-45b6-b2ca-1c99e0c728e3\">\n",
              "    <div class=\"colab-df-container\">\n",
              "      <div>\n",
              "<style scoped>\n",
              "    .dataframe tbody tr th:only-of-type {\n",
              "        vertical-align: middle;\n",
              "    }\n",
              "\n",
              "    .dataframe tbody tr th {\n",
              "        vertical-align: top;\n",
              "    }\n",
              "\n",
              "    .dataframe thead th {\n",
              "        text-align: right;\n",
              "    }\n",
              "</style>\n",
              "<table border=\"1\" class=\"dataframe\">\n",
              "  <thead>\n",
              "    <tr style=\"text-align: right;\">\n",
              "      <th></th>\n",
              "      <th>Name</th>\n",
              "      <th>Gender</th>\n",
              "    </tr>\n",
              "  </thead>\n",
              "  <tbody>\n",
              "    <tr>\n",
              "      <th>0</th>\n",
              "      <td>أبان</td>\n",
              "      <td>M</td>\n",
              "    </tr>\n",
              "    <tr>\n",
              "      <th>1</th>\n",
              "      <td>أبو بكر</td>\n",
              "      <td>M</td>\n",
              "    </tr>\n",
              "    <tr>\n",
              "      <th>2</th>\n",
              "      <td>أبو حمزة</td>\n",
              "      <td>M</td>\n",
              "    </tr>\n",
              "    <tr>\n",
              "      <th>3</th>\n",
              "      <td>أحد</td>\n",
              "      <td>M</td>\n",
              "    </tr>\n",
              "    <tr>\n",
              "      <th>4</th>\n",
              "      <td>أحمد</td>\n",
              "      <td>M</td>\n",
              "    </tr>\n",
              "  </tbody>\n",
              "</table>\n",
              "</div>\n",
              "      <button class=\"colab-df-convert\" onclick=\"convertToInteractive('df-0dae1da4-6cfa-45b6-b2ca-1c99e0c728e3')\"\n",
              "              title=\"Convert this dataframe to an interactive table.\"\n",
              "              style=\"display:none;\">\n",
              "        \n",
              "  <svg xmlns=\"http://www.w3.org/2000/svg\" height=\"24px\"viewBox=\"0 0 24 24\"\n",
              "       width=\"24px\">\n",
              "    <path d=\"M0 0h24v24H0V0z\" fill=\"none\"/>\n",
              "    <path d=\"M18.56 5.44l.94 2.06.94-2.06 2.06-.94-2.06-.94-.94-2.06-.94 2.06-2.06.94zm-11 1L8.5 8.5l.94-2.06 2.06-.94-2.06-.94L8.5 2.5l-.94 2.06-2.06.94zm10 10l.94 2.06.94-2.06 2.06-.94-2.06-.94-.94-2.06-.94 2.06-2.06.94z\"/><path d=\"M17.41 7.96l-1.37-1.37c-.4-.4-.92-.59-1.43-.59-.52 0-1.04.2-1.43.59L10.3 9.45l-7.72 7.72c-.78.78-.78 2.05 0 2.83L4 21.41c.39.39.9.59 1.41.59.51 0 1.02-.2 1.41-.59l7.78-7.78 2.81-2.81c.8-.78.8-2.07 0-2.86zM5.41 20L4 18.59l7.72-7.72 1.47 1.35L5.41 20z\"/>\n",
              "  </svg>\n",
              "      </button>\n",
              "      \n",
              "  <style>\n",
              "    .colab-df-container {\n",
              "      display:flex;\n",
              "      flex-wrap:wrap;\n",
              "      gap: 12px;\n",
              "    }\n",
              "\n",
              "    .colab-df-convert {\n",
              "      background-color: #E8F0FE;\n",
              "      border: none;\n",
              "      border-radius: 50%;\n",
              "      cursor: pointer;\n",
              "      display: none;\n",
              "      fill: #1967D2;\n",
              "      height: 32px;\n",
              "      padding: 0 0 0 0;\n",
              "      width: 32px;\n",
              "    }\n",
              "\n",
              "    .colab-df-convert:hover {\n",
              "      background-color: #E2EBFA;\n",
              "      box-shadow: 0px 1px 2px rgba(60, 64, 67, 0.3), 0px 1px 3px 1px rgba(60, 64, 67, 0.15);\n",
              "      fill: #174EA6;\n",
              "    }\n",
              "\n",
              "    [theme=dark] .colab-df-convert {\n",
              "      background-color: #3B4455;\n",
              "      fill: #D2E3FC;\n",
              "    }\n",
              "\n",
              "    [theme=dark] .colab-df-convert:hover {\n",
              "      background-color: #434B5C;\n",
              "      box-shadow: 0px 1px 3px 1px rgba(0, 0, 0, 0.15);\n",
              "      filter: drop-shadow(0px 1px 2px rgba(0, 0, 0, 0.3));\n",
              "      fill: #FFFFFF;\n",
              "    }\n",
              "  </style>\n",
              "\n",
              "      <script>\n",
              "        const buttonEl =\n",
              "          document.querySelector('#df-0dae1da4-6cfa-45b6-b2ca-1c99e0c728e3 button.colab-df-convert');\n",
              "        buttonEl.style.display =\n",
              "          google.colab.kernel.accessAllowed ? 'block' : 'none';\n",
              "\n",
              "        async function convertToInteractive(key) {\n",
              "          const element = document.querySelector('#df-0dae1da4-6cfa-45b6-b2ca-1c99e0c728e3');\n",
              "          const dataTable =\n",
              "            await google.colab.kernel.invokeFunction('convertToInteractive',\n",
              "                                                     [key], {});\n",
              "          if (!dataTable) return;\n",
              "\n",
              "          const docLinkHtml = 'Like what you see? Visit the ' +\n",
              "            '<a target=\"_blank\" href=https://colab.research.google.com/notebooks/data_table.ipynb>data table notebook</a>'\n",
              "            + ' to learn more about interactive tables.';\n",
              "          element.innerHTML = '';\n",
              "          dataTable['output_type'] = 'display_data';\n",
              "          await google.colab.output.renderOutput(dataTable, element);\n",
              "          const docLink = document.createElement('div');\n",
              "          docLink.innerHTML = docLinkHtml;\n",
              "          element.appendChild(docLink);\n",
              "        }\n",
              "      </script>\n",
              "    </div>\n",
              "  </div>\n",
              "  "
            ]
          },
          "metadata": {},
          "execution_count": 54
        }
      ]
    },
    {
      "cell_type": "code",
      "source": [
        "f_df.info()"
      ],
      "metadata": {
        "colab": {
          "base_uri": "https://localhost:8080/"
        },
        "id": "t4eEaWYq2Nq1",
        "outputId": "74c821f8-528c-4887-8279-6e5f319c5b52"
      },
      "execution_count": null,
      "outputs": [
        {
          "output_type": "stream",
          "name": "stdout",
          "text": [
            "<class 'pandas.core.frame.DataFrame'>\n",
            "RangeIndex: 416 entries, 0 to 415\n",
            "Data columns (total 2 columns):\n",
            " #   Column  Non-Null Count  Dtype \n",
            "---  ------  --------------  ----- \n",
            " 0   Name    416 non-null    object\n",
            " 1   Gender  416 non-null    object\n",
            "dtypes: object(2)\n",
            "memory usage: 6.6+ KB\n"
          ]
        }
      ]
    },
    {
      "cell_type": "markdown",
      "source": [
        "Now, we are ready to concatenate the dataframes together into one and sort them by gender."
      ],
      "metadata": {
        "id": "HNrMi7dz2Rif"
      }
    },
    {
      "cell_type": "code",
      "source": [
        "df = pd.concat([arab_names, f_df, m_df], axis=0, ignore_index=True).reset_index(drop=True)\n",
        "df.sort_values(by=[\"Gender\"], inplace = True)\n",
        "df=df.reset_index(drop=True)"
      ],
      "metadata": {
        "id": "4d1N0SeG10FU"
      },
      "execution_count": null,
      "outputs": []
    },
    {
      "cell_type": "code",
      "source": [
        "df.info()"
      ],
      "metadata": {
        "colab": {
          "base_uri": "https://localhost:8080/"
        },
        "id": "KDCyve1oDnz1",
        "outputId": "8c776268-34d7-4ec1-9e4a-6e345514d0e1"
      },
      "execution_count": null,
      "outputs": [
        {
          "output_type": "stream",
          "name": "stdout",
          "text": [
            "<class 'pandas.core.frame.DataFrame'>\n",
            "RangeIndex: 2461 entries, 0 to 2460\n",
            "Data columns (total 2 columns):\n",
            " #   Column  Non-Null Count  Dtype \n",
            "---  ------  --------------  ----- \n",
            " 0   Name    2461 non-null   object\n",
            " 1   Gender  2461 non-null   object\n",
            "dtypes: object(2)\n",
            "memory usage: 38.6+ KB\n"
          ]
        }
      ]
    },
    {
      "cell_type": "markdown",
      "source": [
        "Let's check out data quality\n"
      ],
      "metadata": {
        "id": "DUx89w8Y4k_K"
      }
    },
    {
      "cell_type": "code",
      "source": [
        "#Check duplicates and nulls\n",
        "print(\"Number of null values: \",df.isnull().any().sum() )\n",
        "print(\"Number of duplicates values: \",df.duplicated().sum() )"
      ],
      "metadata": {
        "colab": {
          "base_uri": "https://localhost:8080/"
        },
        "id": "Qmg-uVDC224S",
        "outputId": "9c37e5f9-d67f-40ea-9b82-52589af97e55"
      },
      "execution_count": null,
      "outputs": [
        {
          "output_type": "stream",
          "name": "stdout",
          "text": [
            "Number of null values:  0\n",
            "Number of duplicates values:  867\n"
          ]
        }
      ]
    },
    {
      "cell_type": "markdown",
      "source": [
        "Good! We've got zero null values but we have 867 duplicates!\n",
        "\n",
        "The duplicates won't hurt as we didn't create a name consists of three names yet.\n"
      ],
      "metadata": {
        "id": "Fbg4KA6g46vv"
      }
    },
    {
      "cell_type": "code",
      "source": [
        "df.Gender.value_counts()"
      ],
      "metadata": {
        "colab": {
          "base_uri": "https://localhost:8080/"
        },
        "id": "x2zZsSJXFRX2",
        "outputId": "caaae044-da47-4a52-91df-83ff10c76313"
      },
      "execution_count": null,
      "outputs": [
        {
          "output_type": "execute_result",
          "data": {
            "text/plain": [
              "M    1493\n",
              "F     968\n",
              "Name: Gender, dtype: int64"
            ]
          },
          "metadata": {},
          "execution_count": 59
        }
      ]
    },
    {
      "cell_type": "code",
      "source": [
        "#Histogram of gender distribution in the dataset\n",
        "df.Gender.hist();\n",
        "plt.xlabel(\"Gender\");\n",
        "plt.ylabel(\"Frequency\");\n",
        "plt.title(\"Female and Male Frequencies\");"
      ],
      "metadata": {
        "colab": {
          "base_uri": "https://localhost:8080/",
          "height": 295
        },
        "id": "-Ah9We-v4UzA",
        "outputId": "ef8b7aa0-8b83-4aeb-9d51-1f5ce3763915"
      },
      "execution_count": null,
      "outputs": [
        {
          "output_type": "display_data",
          "data": {
            "text/plain": [
              "<Figure size 432x288 with 1 Axes>"
            ],
            "image/png": "[encoded data removed]"
          },
          "metadata": {
            "needs_background": "light"
          }
        }
      ]
    },
    {
      "cell_type": "markdown",
      "source": [
        "## 2. Create 3-name Combiner\n",
        "\n",
        "The creation of the dataset will include 2M record.\n",
        "\n",
        "This stage is divided into two phases:\n",
        "1. Creating half of the data as valid names (2M)\n",
        "  \n",
        "\n",
        " >  *   Half of the valid names are male names (1M) and the other half is   female names (1M) (**To avoid sampling bias**)\n",
        "\n",
        "\n",
        "\n",
        "\n",
        "2. Creating half of the data as invalid names (2M)\n",
        "\n",
        "\n",
        "> *   Half of the invalid names are male names (1M)\n",
        "*   Half of the invalid names are female names (1M)\n",
        "\n",
        "> For each half of those:\n",
        "*   20% of this part of the data have female name in the middle name.\n",
        "*   20% of this part of the data have female name in the last name.\n",
        "*   60% of this part of the data have name distortion (3 Levels)\n",
        "\n",
        "\n",
        "\n",
        "\n",
        "\n",
        "\n",
        "\n",
        "\n"
      ],
      "metadata": {
        "id": "FTHgE5Lz9y5N"
      }
    },
    {
      "cell_type": "markdown",
      "source": [
        "###Creating names functions\n",
        "The strategy used for selecting names:\n",
        "\n",
        "After sorting the dataframe by \"Gender\", we can access name of specific gender using its range index in the dataframe.\n",
        "> * Female gender range [0,968] \n",
        "> * Male gender range [969,1492]\n",
        "\n",
        "So, if we need a name of specific gender randomly we can sample a random number within its gender range.\n",
        "\n",
        "After selecting random names, we concatenate them to make a full name."
      ],
      "metadata": {
        "id": "HhwC59k8Uul8"
      }
    },
    {
      "cell_type": "markdown",
      "source": [
        "### 2.1 Creating half of the data as valid names (2M)"
      ],
      "metadata": {
        "id": "LqkLgz10ZaQR"
      }
    },
    {
      "cell_type": "code",
      "source": [
        "data_size=int(4e06)"
      ],
      "metadata": {
        "id": "alJyY77bvQQE"
      },
      "execution_count": null,
      "outputs": []
    },
    {
      "cell_type": "code",
      "source": [
        "def valid_mname(df,size=int(data_size/4)):\n",
        "  \"Creating a valid male name by sampling 3 numbers within male gender and concatenate them\"\n",
        "  names=[]\n",
        "  m_rand_first=np.random.randint(969,1493, size=size)\n",
        "  m_rand_sec=np.random.randint(969,1493, size=size)\n",
        "  m_rand_third=np.random.randint(969,1493, size=size)\n",
        "  names=[]\n",
        "  for i in range(size):\n",
        "    rand_name=df.Name[m_rand_first[i]]+ \" \"+df.Name[m_rand_sec[i]]+\" \"+df.Name[m_rand_third[i]]\n",
        "    names.append(rand_name)\n",
        "  return names"
      ],
      "metadata": {
        "id": "JCDbfRUN53op"
      },
      "execution_count": null,
      "outputs": []
    },
    {
      "cell_type": "code",
      "source": [
        "def valid_fname(df,size=int(data_size/4)):\n",
        "  \"Creating a valid female name by sampling 3 numbers within female (First) male gender (Middle and Last) and concatenate them\"\n",
        "  names=[]\n",
        "  f_rand_first=np.random.randint(968, size=size)\n",
        "  m_rand_sec=np.random.randint(969,1493, size=size)\n",
        "  m_rand_third=np.random.randint(969,1493, size=size)\n",
        "  for i in range(size):\n",
        "    rand_name=df.Name[f_rand_first[i]]+ \" \"+df.Name[m_rand_sec[i]]+\" \"+df.Name[m_rand_third[i]]\n",
        "    names.append(rand_name)\n",
        "  return names"
      ],
      "metadata": {
        "id": "cw7C0euLNBvi"
      },
      "execution_count": null,
      "outputs": []
    },
    {
      "cell_type": "markdown",
      "source": [
        "### 2.2 Creating half of the data as invalid names (2M)"
      ],
      "metadata": {
        "id": "WxsLCxGDZkZo"
      }
    },
    {
      "cell_type": "code",
      "source": [
        "def fake_mname(df,size=int(data_size/4)):\n",
        "  \"Creating an invalid male name by sampling 3 numbers of male gender (First), female gender (Middle or Last) and male gender (Middle or last) and concatenate them\"\n",
        "  names=[]\n",
        "  #Female name in the middle 20%\n",
        "  m_rand_first=np.random.randint(969,1493, size=size)\n",
        "  f_rand_sec=np.random.randint(968, size=size)\n",
        "  m_rand_third=np.random.randint(969,1493, size=size)\n",
        "  for i in range(int(size*0.2)):\n",
        "    rand_name=df.Name[m_rand_first[i]]+ \" \"+df.Name[f_rand_sec[i]]+\" \"+df.Name[m_rand_third[i]]\n",
        "    names.append(rand_name)\n",
        "  #Female name in the end 20%\n",
        "  m_rand_first=np.random.randint(969,1493, size=size)\n",
        "  m_rand_sec=np.random.randint(969,1493, size=size)\n",
        "  f_rand_third=np.random.randint(968, size=size)\n",
        "  for i in range(int(size*0.2)):\n",
        "    rand_name2=df.Name[m_rand_first[i]]+ \" \"+df.Name[m_rand_sec[i]]+\" \"+df.Name[f_rand_third[i]]\n",
        "    names.append(rand_name2)\n",
        "\n",
        "  return names"
      ],
      "metadata": {
        "id": "C305nbnlaTFe"
      },
      "execution_count": null,
      "outputs": []
    },
    {
      "cell_type": "code",
      "source": [
        "def fake_fname(df,size=int(data_size/4)):\n",
        "  \"Creating an invalid female name by sampling 3 numbers of female gender (First), female gender (Middle or Last) and male gender (Middle or last) and concatenate them\"\n",
        "  names=[]\n",
        "  #Female name in the middle 20%\n",
        "  f_rand_first=np.random.randint(968, size=size)\n",
        "  f_rand_sec=np.random.randint(968, size=size)\n",
        "  m_rand_third=np.random.randint(969,1493, size=size)\n",
        "  for i in range(int(size*0.2)):\n",
        "    rand_name=df.Name[f_rand_first[i]]+ \" \"+df.Name[f_rand_sec[i]]+\" \"+df.Name[m_rand_third[i]]\n",
        "    names.append(rand_name)\n",
        "  #Female name in the end 20%\n",
        "  f_rand_first=np.random.randint(968, size=size)\n",
        "  m_rand_sec=np.random.randint(969,1493, size=size)\n",
        "  f_rand_third=np.random.randint(968, size=size)\n",
        "  for i in range(int(size*0.2)):\n",
        "    rand_name2=df.Name[f_rand_first[i]]+ \" \"+df.Name[m_rand_sec[i]]+\" \"+df.Name[f_rand_third[i]]\n",
        "    names.append(rand_name2)\n",
        "  return names"
      ],
      "metadata": {
        "id": "Lk0M_35vmJSP"
      },
      "execution_count": null,
      "outputs": []
    },
    {
      "cell_type": "code",
      "source": [
        "#Creating a list of arabic letters to distort names by adding them randomly within the name.\n",
        "arab_ltrs=[\"ي\" ,\"و\" ,\"ه\" ,\"ن\" ,\"م\" ,\"ل\" ,\"ك\" ,\"ق\" ,\"ف\" ,\"غ\" ,\"ع\" ,\"ط\" ,\"ظ\" ,\"ط\" ,\"ض\" ,\"ص\" ,\"ش\" ,\"س\" ,\"ز\" ,\"ر\" ,\"ذ\" ,\"د\" ,\"خ\" ,\"ح\" ,\"ج\" ,\"ث\" ,\"ت\" ,\"ب\" ,\"ا\" ]\n"
      ],
      "metadata": {
        "id": "nPqHBswuTBKp"
      },
      "execution_count": null,
      "outputs": []
    },
    {
      "cell_type": "code",
      "source": [
        "def remove_rand_ltr(name,times=3):\n",
        "  \"This function removes letters to a name randomly a specified number of times\"\n",
        "  for i in range(times):\n",
        "    rand = np.random.randint(0, len(name))\n",
        "    name=name[:rand] + name[rand+1:]\n",
        "  return name\n",
        "def add_rand_ltr(name,times=2):\n",
        "  \"This function adds letters  to a name randomly a specified number of times\"\n",
        "  for i in range (times):\n",
        "    place = np.random.randint(0, len(name))\n",
        "    rand_ltr = np.random.randint(0, len(arab_ltrs))\n",
        "    name=name[:place] + arab_ltrs[rand_ltr] + name[place:]\n",
        "  return name"
      ],
      "metadata": {
        "id": "z8Gdfv0HddeY"
      },
      "execution_count": null,
      "outputs": []
    },
    {
      "cell_type": "code",
      "source": [
        "def distort_name(names):\n",
        "  \"This function distort names on 3 levels each level of removing and adding random letters a specific number of times at random placement in the name\"\n",
        "\n",
        "  #Level two distortion\n",
        "  for s in range(int(len(names)*0.3)):\n",
        "    names[s]=remove_rand_ltr(names[s],2)\n",
        "    names[s]=add_rand_ltr(names[s],1)\n",
        "\n",
        "  #Level two distortion\n",
        "  for s in range(int(len(names)*0.3),int(len(names)*0.6)):\n",
        "    names[s]=remove_rand_ltr(names[s],3)\n",
        "    names[s]=add_rand_ltr(names[s],4)\n",
        "\n",
        "  #Level three distortion\n",
        "  for s in range(int(len(names)*0.6),int(len(names))):\n",
        "    names[s]=remove_rand_ltr(names[s],5)\n",
        "    names[s]=add_rand_ltr(names[s],5)\n",
        "\n",
        "  return names\n",
        "\n"
      ],
      "metadata": {
        "id": "NcWVbJHXdFjc"
      },
      "execution_count": 1,
      "outputs": []
    },
    {
      "cell_type": "markdown",
      "source": [
        "Create names and add them to the final dataframe"
      ],
      "metadata": {
        "id": "A0ALOImYtZYH"
      }
    },
    {
      "cell_type": "code",
      "source": [
        "# Create valid names\n",
        "valid_mnames=valid_mname(df)\n",
        "valid_fnames=valid_fname(df)\n",
        "\n",
        "# Create invalid names\n",
        "fake_fnames=fake_fname(df)\n",
        "fake_mnames=fake_mname(df)\n",
        "distorted_mname=distort_name(valid_mname(df,size=int(data_size * 3/20)))\n",
        "distorted_fname=distort_name(valid_fname(df,size=int(data_size * 3/20)))\n"
      ],
      "metadata": {
        "id": "d05OANDqPleE"
      },
      "execution_count": null,
      "outputs": []
    },
    {
      "cell_type": "code",
      "source": [
        "#Verifying the size of valid and invalid names\n",
        "\n",
        "print(\"Size of valid names: \", len((valid_fnames+valid_mnames)))\n",
        "print(\"Size of invalid names: \", len((distorted_fname+distorted_fname+fake_fnames+fake_mnames)))"
      ],
      "metadata": {
        "colab": {
          "base_uri": "https://localhost:8080/"
        },
        "id": "g8J9kZkP02ui",
        "outputId": "4a1db7e8-b392-42d1-a2b9-c1b48f255abe"
      },
      "execution_count": null,
      "outputs": [
        {
          "output_type": "stream",
          "name": "stdout",
          "text": [
            "Size of valid names:  2000000\n",
            "Size of invalid names:  2000000\n"
          ]
        }
      ]
    },
    {
      "cell_type": "markdown",
      "source": [
        "**Viola!** 🙂 Now, we are ready to merge those lists into one dataframe."
      ],
      "metadata": {
        "id": "zyJlBRLV7Nsk"
      }
    },
    {
      "cell_type": "markdown",
      "source": [
        "## 3. Merge names into one final dataframe of two labels: [\"name\" , \"gender\",\"valid\"]"
      ],
      "metadata": {
        "id": "LFRm6Ai-tFCX"
      }
    },
    {
      "cell_type": "code",
      "source": [
        "#Create the final dataframe \n",
        "full_names=pd.DataFrame(columns=[\"name\",\"gender\",\"valid\"])"
      ],
      "metadata": {
        "id": "giL7xRiZqarO"
      },
      "execution_count": null,
      "outputs": []
    },
    {
      "cell_type": "code",
      "source": [
        "#Names will be added in order so, we will add valid ones then invalid ones\n",
        "full_names['name']= valid_mnames+valid_fnames+fake_fnames+fake_mnames+distorted_mname+distorted_fname\n",
        "\n",
        "# We will add labels of 1M of ones for valid and 1M value of zeros for invalid ones\n",
        "full_names[\"valid\"]=[1] * int(data_size/2) + [0] *  int(data_size/2)\n",
        "\n",
        "#We will add gender according to the length of each list added and its type\n",
        "full_names[\"gender\"]=[\"M\"] *len(valid_mnames) + [\"F\"] * len(valid_fnames) + [\"F\"] * len(fake_fnames) + [\"M\"] * len(fake_mnames) + [\"M\"] * len(distorted_mname) + [\"F\"] * len(distorted_fname)\n",
        "\n",
        "#Print the dataset\n",
        "full_names"
      ],
      "metadata": {
        "colab": {
          "base_uri": "https://localhost:8080/",
          "height": 424
        },
        "id": "OYNGxwz-7HUo",
        "outputId": "ae3bd13f-a79b-4059-a4cb-f6e6586cb69c"
      },
      "execution_count": null,
      "outputs": [
        {
          "output_type": "execute_result",
          "data": {
            "text/plain": [
              "                      name gender  valid\n",
              "0          حسحاس نجدة تركي      M      1\n",
              "1           نصر نعمت زيدون      M      1\n",
              "2           جساس فيضي فهيم      M      1\n",
              "3           داود مالك رامز      M      1\n",
              "4          رائد مناع مستور      M      1\n",
              "...                    ...    ...    ...\n",
              "3999995      تمن ثاتضتابجر      F      0\n",
              "3999996  ميانممككومه لمطوع      F      0\n",
              "3999997      نكقذخلارخم نص      F      0\n",
              "3999998      يصمصميا مهمهب      F      0\n",
              "3999999    أذمينن شمدعب سي      F      0\n",
              "\n",
              "[4000000 rows x 3 columns]"
            ],
            "text/html": [
              "\n",
              "  <div id=\"df-4807bba0-623e-4e52-b96a-8ece0632df83\">\n",
              "    <div class=\"colab-df-container\">\n",
              "      <div>\n",
              "<style scoped>\n",
              "    .dataframe tbody tr th:only-of-type {\n",
              "        vertical-align: middle;\n",
              "    }\n",
              "\n",
              "    .dataframe tbody tr th {\n",
              "        vertical-align: top;\n",
              "    }\n",
              "\n",
              "    .dataframe thead th {\n",
              "        text-align: right;\n",
              "    }\n",
              "</style>\n",
              "<table border=\"1\" class=\"dataframe\">\n",
              "  <thead>\n",
              "    <tr style=\"text-align: right;\">\n",
              "      <th></th>\n",
              "      <th>name</th>\n",
              "      <th>gender</th>\n",
              "      <th>valid</th>\n",
              "    </tr>\n",
              "  </thead>\n",
              "  <tbody>\n",
              "    <tr>\n",
              "      <th>0</th>\n",
              "      <td>حسحاس نجدة تركي</td>\n",
              "      <td>M</td>\n",
              "      <td>1</td>\n",
              "    </tr>\n",
              "    <tr>\n",
              "      <th>1</th>\n",
              "      <td>نصر نعمت زيدون</td>\n",
              "      <td>M</td>\n",
              "      <td>1</td>\n",
              "    </tr>\n",
              "    <tr>\n",
              "      <th>2</th>\n",
              "      <td>جساس فيضي فهيم</td>\n",
              "      <td>M</td>\n",
              "      <td>1</td>\n",
              "    </tr>\n",
              "    <tr>\n",
              "      <th>3</th>\n",
              "      <td>داود مالك رامز</td>\n",
              "      <td>M</td>\n",
              "      <td>1</td>\n",
              "    </tr>\n",
              "    <tr>\n",
              "      <th>4</th>\n",
              "      <td>رائد مناع مستور</td>\n",
              "      <td>M</td>\n",
              "      <td>1</td>\n",
              "    </tr>\n",
              "    <tr>\n",
              "      <th>...</th>\n",
              "      <td>...</td>\n",
              "      <td>...</td>\n",
              "      <td>...</td>\n",
              "    </tr>\n",
              "    <tr>\n",
              "      <th>3999995</th>\n",
              "      <td>تمن ثاتضتابجر</td>\n",
              "      <td>F</td>\n",
              "      <td>0</td>\n",
              "    </tr>\n",
              "    <tr>\n",
              "      <th>3999996</th>\n",
              "      <td>ميانممككومه لمطوع</td>\n",
              "      <td>F</td>\n",
              "      <td>0</td>\n",
              "    </tr>\n",
              "    <tr>\n",
              "      <th>3999997</th>\n",
              "      <td>نكقذخلارخم نص</td>\n",
              "      <td>F</td>\n",
              "      <td>0</td>\n",
              "    </tr>\n",
              "    <tr>\n",
              "      <th>3999998</th>\n",
              "      <td>يصمصميا مهمهب</td>\n",
              "      <td>F</td>\n",
              "      <td>0</td>\n",
              "    </tr>\n",
              "    <tr>\n",
              "      <th>3999999</th>\n",
              "      <td>أذمينن شمدعب سي</td>\n",
              "      <td>F</td>\n",
              "      <td>0</td>\n",
              "    </tr>\n",
              "  </tbody>\n",
              "</table>\n",
              "<p>4000000 rows × 3 columns</p>\n",
              "</div>\n",
              "      <button class=\"colab-df-convert\" onclick=\"convertToInteractive('df-4807bba0-623e-4e52-b96a-8ece0632df83')\"\n",
              "              title=\"Convert this dataframe to an interactive table.\"\n",
              "              style=\"display:none;\">\n",
              "        \n",
              "  <svg xmlns=\"http://www.w3.org/2000/svg\" height=\"24px\"viewBox=\"0 0 24 24\"\n",
              "       width=\"24px\">\n",
              "    <path d=\"M0 0h24v24H0V0z\" fill=\"none\"/>\n",
              "    <path d=\"M18.56 5.44l.94 2.06.94-2.06 2.06-.94-2.06-.94-.94-2.06-.94 2.06-2.06.94zm-11 1L8.5 8.5l.94-2.06 2.06-.94-2.06-.94L8.5 2.5l-.94 2.06-2.06.94zm10 10l.94 2.06.94-2.06 2.06-.94-2.06-.94-.94-2.06-.94 2.06-2.06.94z\"/><path d=\"M17.41 7.96l-1.37-1.37c-.4-.4-.92-.59-1.43-.59-.52 0-1.04.2-1.43.59L10.3 9.45l-7.72 7.72c-.78.78-.78 2.05 0 2.83L4 21.41c.39.39.9.59 1.41.59.51 0 1.02-.2 1.41-.59l7.78-7.78 2.81-2.81c.8-.78.8-2.07 0-2.86zM5.41 20L4 18.59l7.72-7.72 1.47 1.35L5.41 20z\"/>\n",
              "  </svg>\n",
              "      </button>\n",
              "      \n",
              "  <style>\n",
              "    .colab-df-container {\n",
              "      display:flex;\n",
              "      flex-wrap:wrap;\n",
              "      gap: 12px;\n",
              "    }\n",
              "\n",
              "    .colab-df-convert {\n",
              "      background-color: #E8F0FE;\n",
              "      border: none;\n",
              "      border-radius: 50%;\n",
              "      cursor: pointer;\n",
              "      display: none;\n",
              "      fill: #1967D2;\n",
              "      height: 32px;\n",
              "      padding: 0 0 0 0;\n",
              "      width: 32px;\n",
              "    }\n",
              "\n",
              "    .colab-df-convert:hover {\n",
              "      background-color: #E2EBFA;\n",
              "      box-shadow: 0px 1px 2px rgba(60, 64, 67, 0.3), 0px 1px 3px 1px rgba(60, 64, 67, 0.15);\n",
              "      fill: #174EA6;\n",
              "    }\n",
              "\n",
              "    [theme=dark] .colab-df-convert {\n",
              "      background-color: #3B4455;\n",
              "      fill: #D2E3FC;\n",
              "    }\n",
              "\n",
              "    [theme=dark] .colab-df-convert:hover {\n",
              "      background-color: #434B5C;\n",
              "      box-shadow: 0px 1px 3px 1px rgba(0, 0, 0, 0.15);\n",
              "      filter: drop-shadow(0px 1px 2px rgba(0, 0, 0, 0.3));\n",
              "      fill: #FFFFFF;\n",
              "    }\n",
              "  </style>\n",
              "\n",
              "      <script>\n",
              "        const buttonEl =\n",
              "          document.querySelector('#df-4807bba0-623e-4e52-b96a-8ece0632df83 button.colab-df-convert');\n",
              "        buttonEl.style.display =\n",
              "          google.colab.kernel.accessAllowed ? 'block' : 'none';\n",
              "\n",
              "        async function convertToInteractive(key) {\n",
              "          const element = document.querySelector('#df-4807bba0-623e-4e52-b96a-8ece0632df83');\n",
              "          const dataTable =\n",
              "            await google.colab.kernel.invokeFunction('convertToInteractive',\n",
              "                                                     [key], {});\n",
              "          if (!dataTable) return;\n",
              "\n",
              "          const docLinkHtml = 'Like what you see? Visit the ' +\n",
              "            '<a target=\"_blank\" href=https://colab.research.google.com/notebooks/data_table.ipynb>data table notebook</a>'\n",
              "            + ' to learn more about interactive tables.';\n",
              "          element.innerHTML = '';\n",
              "          dataTable['output_type'] = 'display_data';\n",
              "          await google.colab.output.renderOutput(dataTable, element);\n",
              "          const docLink = document.createElement('div');\n",
              "          docLink.innerHTML = docLinkHtml;\n",
              "          element.appendChild(docLink);\n",
              "        }\n",
              "      </script>\n",
              "    </div>\n",
              "  </div>\n",
              "  "
            ]
          },
          "metadata": {},
          "execution_count": 117
        }
      ]
    },
    {
      "cell_type": "code",
      "source": [
        "full_names.duplicated().sum()"
      ],
      "metadata": {
        "colab": {
          "base_uri": "https://localhost:8080/"
        },
        "id": "Q70rqeEH9J1c",
        "outputId": "0f4f5652-556a-4124-800a-9708260906d0"
      },
      "execution_count": null,
      "outputs": [
        {
          "output_type": "execute_result",
          "data": {
            "text/plain": [
              "7173"
            ]
          },
          "metadata": {},
          "execution_count": 120
        }
      ]
    },
    {
      "cell_type": "code",
      "source": [
        "#Convert dataframe to csv file on drive for later use\n",
        "full_names.to_csv('/content/drive/MyDrive/datasets/namesdataset.csv', index = False)"
      ],
      "metadata": {
        "id": "Ff_Qs3s75eC_"
      },
      "execution_count": null,
      "outputs": []
    }
  ]
}