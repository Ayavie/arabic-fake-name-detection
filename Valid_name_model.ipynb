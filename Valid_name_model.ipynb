{
  "nbformat": 4,
  "nbformat_minor": 0,
  "metadata": {
    "colab": {
      "provenance": [],
      "collapsed_sections": [
        "5jZWAvTmpAO-"
      ],
      "toc_visible": true,
      "mount_file_id": "1DpfbBcT-bX0zbBaVhGgQ8rfwZb0_ZKPx",
      "authorship_tag": "ABX9TyPiO26tJ7g4Q36VEvuWxZru",
      "include_colab_link": true
    },
    "kernelspec": {
      "name": "python3",
      "display_name": "Python 3"
    },
    "language_info": {
      "name": "python"
    }
  },
  "cells": [
    {
      "cell_type": "markdown",
      "metadata": {
        "id": "view-in-github",
        "colab_type": "text"
      },
      "source": [
        "<a href=\"https://colab.research.google.com/github/Ayavie/arabic-fake-name-detection/blob/main/Valid_name_model.ipynb\" target=\"_parent\"><img src=\"https://colab.research.google.com/assets/colab-badge.svg\" alt=\"Open In Colab\"/></a>"
      ]
    },
    {
      "cell_type": "markdown",
      "source": [
        "## Problem Description ☕\n",
        "This notebook is created to tackle valid name problem detection. NLP techniques are used to handle this problem.\n",
        "\n",
        "The challenge is to find the best way of preprocessing techniques for arabic names and creating the best combination of sequence model layers to get better outcome.\n",
        "\n",
        "The impact could be having much less fake arabic names in websites registeration by banning the fake ones for example.\n",
        "\n",
        "## Strategy used ✔️\n",
        "\n",
        "* Importing libraries and Investigation data\n",
        "* Data Cleaning\n",
        "* Data Preprocessing\n",
        "* Creating Bidirectional LSTM Model\n",
        "* Model Training\n",
        "* Model Evaluation\n",
        "* Model Tuning\n",
        "* Model Re-load and Re-use"
      ],
      "metadata": {
        "id": "d1VIwslbPsam"
      }
    },
    {
      "cell_type": "code",
      "source": [
        "#Imporing libraries\n",
        "import pandas as pd\n",
        "import numpy as np\n",
        "import matplotlib.pyplot as plt\n",
        "import seaborn as sb\n",
        "import tensorflow as tf\n",
        "from tensorflow import keras\n",
        "from tensorflow.keras.preprocessing.text import Tokenizer\n",
        "from tensorflow.keras.preprocessing.sequence import pad_sequences\n",
        "from tensorflow.keras.layers import Dense,Dropout\n",
        "from tensorflow.keras.optimizers import Adam,Nadam\n",
        "from keras.utils.vis_utils import plot_model\n",
        "from sklearn.model_selection import train_test_split\n",
        "tf.random.set_seed(1234)\n"
      ],
      "metadata": {
        "id": "dfSMQ9nk_vST"
      },
      "execution_count": 1,
      "outputs": []
    },
    {
      "cell_type": "markdown",
      "source": [
        "## Exploratory Data Analysis"
      ],
      "metadata": {
        "id": "uJnVF8eB-AtJ"
      }
    },
    {
      "cell_type": "code",
      "execution_count": 2,
      "metadata": {
        "colab": {
          "base_uri": "https://localhost:8080/",
          "height": 424
        },
        "id": "4vWBNSdX78m4",
        "outputId": "19ee2475-9437-47a5-94de-738d1e775167"
      },
      "outputs": [
        {
          "output_type": "execute_result",
          "data": {
            "text/plain": [
              "                      name gender  valid\n",
              "0          حسحاس نجدة تركي      M      1\n",
              "1           نصر نعمت زيدون      M      1\n",
              "2           جساس فيضي فهيم      M      1\n",
              "3           داود مالك رامز      M      1\n",
              "4          رائد مناع مستور      M      1\n",
              "...                    ...    ...    ...\n",
              "3999995      تمن ثاتضتابجر      F      0\n",
              "3999996  ميانممككومه لمطوع      F      0\n",
              "3999997      نكقذخلارخم نص      F      0\n",
              "3999998      يصمصميا مهمهب      F      0\n",
              "3999999    أذمينن شمدعب سي      F      0\n",
              "\n",
              "[4000000 rows x 3 columns]"
            ],
            "text/html": [
              "\n",
              "  <div id=\"df-d1024ffb-e37f-4525-9e5b-199527f531b9\">\n",
              "    <div class=\"colab-df-container\">\n",
              "      <div>\n",
              "<style scoped>\n",
              "    .dataframe tbody tr th:only-of-type {\n",
              "        vertical-align: middle;\n",
              "    }\n",
              "\n",
              "    .dataframe tbody tr th {\n",
              "        vertical-align: top;\n",
              "    }\n",
              "\n",
              "    .dataframe thead th {\n",
              "        text-align: right;\n",
              "    }\n",
              "</style>\n",
              "<table border=\"1\" class=\"dataframe\">\n",
              "  <thead>\n",
              "    <tr style=\"text-align: right;\">\n",
              "      <th></th>\n",
              "      <th>name</th>\n",
              "      <th>gender</th>\n",
              "      <th>valid</th>\n",
              "    </tr>\n",
              "  </thead>\n",
              "  <tbody>\n",
              "    <tr>\n",
              "      <th>0</th>\n",
              "      <td>حسحاس نجدة تركي</td>\n",
              "      <td>M</td>\n",
              "      <td>1</td>\n",
              "    </tr>\n",
              "    <tr>\n",
              "      <th>1</th>\n",
              "      <td>نصر نعمت زيدون</td>\n",
              "      <td>M</td>\n",
              "      <td>1</td>\n",
              "    </tr>\n",
              "    <tr>\n",
              "      <th>2</th>\n",
              "      <td>جساس فيضي فهيم</td>\n",
              "      <td>M</td>\n",
              "      <td>1</td>\n",
              "    </tr>\n",
              "    <tr>\n",
              "      <th>3</th>\n",
              "      <td>داود مالك رامز</td>\n",
              "      <td>M</td>\n",
              "      <td>1</td>\n",
              "    </tr>\n",
              "    <tr>\n",
              "      <th>4</th>\n",
              "      <td>رائد مناع مستور</td>\n",
              "      <td>M</td>\n",
              "      <td>1</td>\n",
              "    </tr>\n",
              "    <tr>\n",
              "      <th>...</th>\n",
              "      <td>...</td>\n",
              "      <td>...</td>\n",
              "      <td>...</td>\n",
              "    </tr>\n",
              "    <tr>\n",
              "      <th>3999995</th>\n",
              "      <td>تمن ثاتضتابجر</td>\n",
              "      <td>F</td>\n",
              "      <td>0</td>\n",
              "    </tr>\n",
              "    <tr>\n",
              "      <th>3999996</th>\n",
              "      <td>ميانممككومه لمطوع</td>\n",
              "      <td>F</td>\n",
              "      <td>0</td>\n",
              "    </tr>\n",
              "    <tr>\n",
              "      <th>3999997</th>\n",
              "      <td>نكقذخلارخم نص</td>\n",
              "      <td>F</td>\n",
              "      <td>0</td>\n",
              "    </tr>\n",
              "    <tr>\n",
              "      <th>3999998</th>\n",
              "      <td>يصمصميا مهمهب</td>\n",
              "      <td>F</td>\n",
              "      <td>0</td>\n",
              "    </tr>\n",
              "    <tr>\n",
              "      <th>3999999</th>\n",
              "      <td>أذمينن شمدعب سي</td>\n",
              "      <td>F</td>\n",
              "      <td>0</td>\n",
              "    </tr>\n",
              "  </tbody>\n",
              "</table>\n",
              "<p>4000000 rows × 3 columns</p>\n",
              "</div>\n",
              "      <button class=\"colab-df-convert\" onclick=\"convertToInteractive('df-d1024ffb-e37f-4525-9e5b-199527f531b9')\"\n",
              "              title=\"Convert this dataframe to an interactive table.\"\n",
              "              style=\"display:none;\">\n",
              "        \n",
              "  <svg xmlns=\"http://www.w3.org/2000/svg\" height=\"24px\"viewBox=\"0 0 24 24\"\n",
              "       width=\"24px\">\n",
              "    <path d=\"M0 0h24v24H0V0z\" fill=\"none\"/>\n",
              "    <path d=\"M18.56 5.44l.94 2.06.94-2.06 2.06-.94-2.06-.94-.94-2.06-.94 2.06-2.06.94zm-11 1L8.5 8.5l.94-2.06 2.06-.94-2.06-.94L8.5 2.5l-.94 2.06-2.06.94zm10 10l.94 2.06.94-2.06 2.06-.94-2.06-.94-.94-2.06-.94 2.06-2.06.94z\"/><path d=\"M17.41 7.96l-1.37-1.37c-.4-.4-.92-.59-1.43-.59-.52 0-1.04.2-1.43.59L10.3 9.45l-7.72 7.72c-.78.78-.78 2.05 0 2.83L4 21.41c.39.39.9.59 1.41.59.51 0 1.02-.2 1.41-.59l7.78-7.78 2.81-2.81c.8-.78.8-2.07 0-2.86zM5.41 20L4 18.59l7.72-7.72 1.47 1.35L5.41 20z\"/>\n",
              "  </svg>\n",
              "      </button>\n",
              "      \n",
              "  <style>\n",
              "    .colab-df-container {\n",
              "      display:flex;\n",
              "      flex-wrap:wrap;\n",
              "      gap: 12px;\n",
              "    }\n",
              "\n",
              "    .colab-df-convert {\n",
              "      background-color: #E8F0FE;\n",
              "      border: none;\n",
              "      border-radius: 50%;\n",
              "      cursor: pointer;\n",
              "      display: none;\n",
              "      fill: #1967D2;\n",
              "      height: 32px;\n",
              "      padding: 0 0 0 0;\n",
              "      width: 32px;\n",
              "    }\n",
              "\n",
              "    .colab-df-convert:hover {\n",
              "      background-color: #E2EBFA;\n",
              "      box-shadow: 0px 1px 2px rgba(60, 64, 67, 0.3), 0px 1px 3px 1px rgba(60, 64, 67, 0.15);\n",
              "      fill: #174EA6;\n",
              "    }\n",
              "\n",
              "    [theme=dark] .colab-df-convert {\n",
              "      background-color: #3B4455;\n",
              "      fill: #D2E3FC;\n",
              "    }\n",
              "\n",
              "    [theme=dark] .colab-df-convert:hover {\n",
              "      background-color: #434B5C;\n",
              "      box-shadow: 0px 1px 3px 1px rgba(0, 0, 0, 0.15);\n",
              "      filter: drop-shadow(0px 1px 2px rgba(0, 0, 0, 0.3));\n",
              "      fill: #FFFFFF;\n",
              "    }\n",
              "  </style>\n",
              "\n",
              "      <script>\n",
              "        const buttonEl =\n",
              "          document.querySelector('#df-d1024ffb-e37f-4525-9e5b-199527f531b9 button.colab-df-convert');\n",
              "        buttonEl.style.display =\n",
              "          google.colab.kernel.accessAllowed ? 'block' : 'none';\n",
              "\n",
              "        async function convertToInteractive(key) {\n",
              "          const element = document.querySelector('#df-d1024ffb-e37f-4525-9e5b-199527f531b9');\n",
              "          const dataTable =\n",
              "            await google.colab.kernel.invokeFunction('convertToInteractive',\n",
              "                                                     [key], {});\n",
              "          if (!dataTable) return;\n",
              "\n",
              "          const docLinkHtml = 'Like what you see? Visit the ' +\n",
              "            '<a target=\"_blank\" href=https://colab.research.google.com/notebooks/data_table.ipynb>data table notebook</a>'\n",
              "            + ' to learn more about interactive tables.';\n",
              "          element.innerHTML = '';\n",
              "          dataTable['output_type'] = 'display_data';\n",
              "          await google.colab.output.renderOutput(dataTable, element);\n",
              "          const docLink = document.createElement('div');\n",
              "          docLink.innerHTML = docLinkHtml;\n",
              "          element.appendChild(docLink);\n",
              "        }\n",
              "      </script>\n",
              "    </div>\n",
              "  </div>\n",
              "  "
            ]
          },
          "metadata": {},
          "execution_count": 2
        }
      ],
      "source": [
        "df = pd.read_csv(\"/content/drive/MyDrive/datasets/namesdataset.csv\")\n",
        "df"
      ]
    },
    {
      "cell_type": "code",
      "source": [
        "df.info()"
      ],
      "metadata": {
        "colab": {
          "base_uri": "https://localhost:8080/"
        },
        "id": "49KLVA4miDsI",
        "outputId": "d58b6713-b4ce-4a95-ab03-cc7f30ee03a5"
      },
      "execution_count": 10,
      "outputs": [
        {
          "output_type": "stream",
          "name": "stdout",
          "text": [
            "<class 'pandas.core.frame.DataFrame'>\n",
            "RangeIndex: 4000000 entries, 0 to 3999999\n",
            "Data columns (total 3 columns):\n",
            " #   Column  Dtype \n",
            "---  ------  ----- \n",
            " 0   name    object\n",
            " 1   gender  object\n",
            " 2   valid   int64 \n",
            "dtypes: int64(1), object(2)\n",
            "memory usage: 91.6+ MB\n"
          ]
        }
      ]
    },
    {
      "cell_type": "code",
      "source": [
        "# Checking class balance and gender balance\n",
        "sb.countplot(data = df, x = 'valid', hue = 'gender');\n",
        "plt.title('Distribution of name validty in gender');\n",
        "plt.xlabel('Validty');\n",
        "plt.ylabel ('Number of Users');"
      ],
      "metadata": {
        "colab": {
          "base_uri": "https://localhost:8080/",
          "height": 295
        },
        "id": "15Pb8jEdcS62",
        "outputId": "c41705a0-d6ee-4793-eac1-fe6498529247"
      },
      "execution_count": 11,
      "outputs": [
        {
          "output_type": "display_data",
          "data": {
            "text/plain": [
              "<Figure size 432x288 with 1 Axes>"
            ],
            "image/png": "[encoded data removed]"
          },
          "metadata": {
            "needs_background": "light"
          }
        }
      ]
    },
    {
      "cell_type": "markdown",
      "source": [
        "Now, we are sure that classes are and gender are balanced to avoid any sampling bias."
      ],
      "metadata": {
        "id": "Xt7Eg0XOdpnr"
      }
    },
    {
      "cell_type": "code",
      "source": [
        "# Max length of name\n",
        "print(\"Max length of names: \",df['name'].map(lambda x: len(x)).max())\n",
        "\n",
        "# Min length of name\n",
        "print(\"Min length of names: \",df['name'].map(lambda x: len(x)).min())"
      ],
      "metadata": {
        "colab": {
          "base_uri": "https://localhost:8080/"
        },
        "id": "495nJcTTIgkI",
        "outputId": "792b43f7-a3aa-49c1-a7c5-ecbb44e83974"
      },
      "execution_count": 12,
      "outputs": [
        {
          "output_type": "stream",
          "name": "stdout",
          "text": [
            "Max length of names:  36\n",
            "Min length of names:  9\n"
          ]
        }
      ]
    },
    {
      "cell_type": "code",
      "source": [
        "# Check number of duplicates \n",
        "df.duplicated().sum()"
      ],
      "metadata": {
        "colab": {
          "base_uri": "https://localhost:8080/"
        },
        "id": "jXN2ePWhW8GL",
        "outputId": "e47bc623-bf13-4bda-eb57-2674cc111a54"
      },
      "execution_count": 13,
      "outputs": [
        {
          "output_type": "execute_result",
          "data": {
            "text/plain": [
              "7173"
            ]
          },
          "metadata": {},
          "execution_count": 13
        }
      ]
    },
    {
      "cell_type": "markdown",
      "source": [
        "We will drop the duplicates to avoid data leakage (Presence of the same data points in training and test sets)\n",
        "\n",
        "and it's okay because it won't hurt class balance as it is considered 0.0018% of our data"
      ],
      "metadata": {
        "id": "3silcjNNYFrJ"
      }
    },
    {
      "cell_type": "markdown",
      "source": [
        "## Data Preprocessing\n"
      ],
      "metadata": {
        "id": "v1oPaHiWB4th"
      }
    },
    {
      "cell_type": "markdown",
      "source": [
        "Let's drop duplicates."
      ],
      "metadata": {
        "id": "ULcEH8qag3FM"
      }
    },
    {
      "cell_type": "code",
      "source": [
        "df.drop_duplicates(inplace=True)\n",
        "print(\"Number of duplicates now: \",df.duplicated().sum())"
      ],
      "metadata": {
        "colab": {
          "base_uri": "https://localhost:8080/"
        },
        "id": "Zi9bKbR4Xo6G",
        "outputId": "1193ed9f-aeb1-4dda-c1b1-ad292f5bb703"
      },
      "execution_count": 14,
      "outputs": [
        {
          "output_type": "stream",
          "name": "stdout",
          "text": [
            "Number of duplicates now:  0\n"
          ]
        }
      ]
    },
    {
      "cell_type": "markdown",
      "source": [
        "Let's encode \"gender\" column"
      ],
      "metadata": {
        "id": "q5JeaForHBCx"
      }
    },
    {
      "cell_type": "code",
      "source": [
        "df['gender']=df['gender'].astype('category').cat.codes"
      ],
      "metadata": {
        "id": "82FrACtrARHV"
      },
      "execution_count": 15,
      "outputs": []
    },
    {
      "cell_type": "markdown",
      "source": [
        "Let's split the data into train and test splits!"
      ],
      "metadata": {
        "id": "Jz6ax6wbPWbk"
      }
    },
    {
      "cell_type": "code",
      "source": [
        "X=df.iloc[:,:-1]\n",
        "y=df['valid']"
      ],
      "metadata": {
        "id": "ZnDtI9oOTtUx"
      },
      "execution_count": 16,
      "outputs": []
    },
    {
      "cell_type": "markdown",
      "source": [
        "We will only test with 100k of the data which is 0.025 of it"
      ],
      "metadata": {
        "id": "2t8fv5tziz6i"
      }
    },
    {
      "cell_type": "code",
      "source": [
        "# Train-test split\n",
        "xtr,xts,ytr,yts=train_test_split(X,y, test_size=0.025,stratify=y,random_state=42,shuffle=True)"
      ],
      "metadata": {
        "id": "ycLfBa2hQ7qm"
      },
      "execution_count": 17,
      "outputs": []
    },
    {
      "cell_type": "markdown",
      "source": [
        "In this problem, we will tokenize names character-wise as we can tell a name is valid or fake by knowing the combination of characters."
      ],
      "metadata": {
        "id": "65rRKt8kjBkQ"
      }
    },
    {
      "cell_type": "code",
      "source": [
        "max_len = 36  #Longest name length\n",
        "\n",
        "# Build characters vocabulary from training set\n",
        "tokenizer = Tokenizer(num_words=False,char_level=True,oov_token='UNK')\n",
        "# Fit the tokenizer on names in training set\n",
        "tokenizer.fit_on_texts(xtr['name'])\n",
        "\n",
        "# function to preprocess the text by adding padding to make all of training examples of same max length (36 char)\n",
        "def _preprocess(list_of_text):\n",
        "    return pad_sequences(\n",
        "        tokenizer.texts_to_sequences(list_of_text),\n",
        "        maxlen=max_len,\n",
        "        padding='post',\n",
        "    )\n",
        "\n",
        "# Print tokenizer vocabulary after fitting on training set\n",
        "tokenizer.word_index"
      ],
      "metadata": {
        "id": "BjQSdRYlBZ5m",
        "colab": {
          "base_uri": "https://localhost:8080/"
        },
        "outputId": "211901b2-4e1a-49c4-a670-927e963edd55"
      },
      "execution_count": 18,
      "outputs": [
        {
          "output_type": "execute_result",
          "data": {
            "text/plain": [
              "{'UNK': 1,\n",
              " ' ': 2,\n",
              " 'ا': 3,\n",
              " 'م': 4,\n",
              " 'ي': 5,\n",
              " 'ر': 6,\n",
              " 'ن': 7,\n",
              " 'د': 8,\n",
              " 'ب': 9,\n",
              " 'ل': 10,\n",
              " 'س': 11,\n",
              " 'ف': 12,\n",
              " 'و': 13,\n",
              " 'ة': 14,\n",
              " 'ع': 15,\n",
              " 'ح': 16,\n",
              " 'ه': 17,\n",
              " 'ج': 18,\n",
              " 'ت': 19,\n",
              " 'ز': 20,\n",
              " 'ك': 21,\n",
              " 'ق': 22,\n",
              " 'ص': 23,\n",
              " 'ط': 24,\n",
              " 'ش': 25,\n",
              " 'أ': 26,\n",
              " 'خ': 27,\n",
              " 'ض': 28,\n",
              " 'ث': 29,\n",
              " 'غ': 30,\n",
              " 'ظ': 31,\n",
              " 'ذ': 32,\n",
              " 'ء': 33,\n",
              " 'إ': 34,\n",
              " 'ئ': 35,\n",
              " 'ى': 36,\n",
              " 'ؤ': 37,\n",
              " 'آ': 38}"
            ]
          },
          "metadata": {},
          "execution_count": 18
        }
      ]
    },
    {
      "cell_type": "code",
      "source": [
        "vocab_size=500 "
      ],
      "metadata": {
        "id": "GvTUnLzAH23q"
      },
      "execution_count": 19,
      "outputs": []
    },
    {
      "cell_type": "markdown",
      "source": [
        "Let's preprocess training data (Add padding)"
      ],
      "metadata": {
        "id": "zEfIV8__nXki"
      }
    },
    {
      "cell_type": "code",
      "source": [
        "# padding is added\n",
        "pre_name = _preprocess(xtr['name'])\n",
        "print(pre_name.shape)"
      ],
      "metadata": {
        "colab": {
          "base_uri": "https://localhost:8080/"
        },
        "id": "byYTzQyQFGlG",
        "outputId": "21e1cafe-a9af-48a8-c212-1a2a333b9735"
      },
      "execution_count": 20,
      "outputs": [
        {
          "output_type": "stream",
          "name": "stdout",
          "text": [
            "(3893006, 36)\n"
          ]
        }
      ]
    },
    {
      "cell_type": "markdown",
      "source": [
        "The data dimension after preprocessing represent (Number of training examples, length_of_each_training_example)"
      ],
      "metadata": {
        "id": "MGOcyFnXndqE"
      }
    },
    {
      "cell_type": "code",
      "source": [
        "# Check the first name vector\n",
        "print(\"First vector: \", pre_name[0])\n",
        "print(\"First vector shape: \",pre_name[0].shape)"
      ],
      "metadata": {
        "colab": {
          "base_uri": "https://localhost:8080/"
        },
        "id": "7Bh1bmf-_P3A",
        "outputId": "580a174f-101b-47cf-9f14-5b08f89ee1e7"
      },
      "execution_count": 21,
      "outputs": [
        {
          "output_type": "stream",
          "name": "stdout",
          "text": [
            "First vector:  [32  9  5  3  7 14  2  4 12 19  3 16  2  6  5  3  7  0  0  0  0  0  0  0\n",
            "  0  0  0  0  0  0  0  0  0  0  0  0]\n",
            "First vector shape:  (36,)\n"
          ]
        }
      ]
    },
    {
      "cell_type": "code",
      "source": [
        "# Convert vector IDs to words\n",
        "print(tokenizer.sequences_to_texts(pre_name[:1]))"
      ],
      "metadata": {
        "colab": {
          "base_uri": "https://localhost:8080/"
        },
        "id": "EEe_8zue-UYr",
        "outputId": "6ab5d91f-414b-4342-ebe6-f07d27599847"
      },
      "execution_count": 22,
      "outputs": [
        {
          "output_type": "stream",
          "name": "stdout",
          "text": [
            "['ذ ب ي ا ن ة   م ف ت ا ح   ر ي ا ن UNK UNK UNK UNK UNK UNK UNK UNK UNK UNK UNK UNK UNK UNK UNK UNK UNK UNK UNK']\n"
          ]
        }
      ]
    },
    {
      "cell_type": "markdown",
      "source": [
        "Let's preprocess test data as well"
      ],
      "metadata": {
        "id": "MyC4lymQo9PS"
      }
    },
    {
      "cell_type": "code",
      "source": [
        "# Add padding to test set to have max length\n",
        "pre_name_t = _preprocess(xts['name'])"
      ],
      "metadata": {
        "id": "9TU8eMp8eKiL"
      },
      "execution_count": 23,
      "outputs": []
    },
    {
      "cell_type": "markdown",
      "source": [
        "## Model Building\n",
        "We will use sequence model to tackle this problem as it considers dependencies of sequential order.\n",
        "\n",
        "> * The model's input: gender and name\n",
        "> * The model's output: accuracy of validity\n",
        "> * We will use threshold of value:** as ____________ **\n",
        "> * Using \"Accuracy\" as a metric is a good choice "
      ],
      "metadata": {
        "id": "nXvFLfcf2LAs"
      }
    },
    {
      "cell_type": "code",
      "source": [
        "# Input of both name and gender\n",
        "in_text=tf.keras.Input(batch_shape=(None, max_len),name='name')\n",
        "in_gender=tf.keras.Input(shape=(1,),name='gender')\n",
        "\n",
        "# Embedding layer and two Bidirectional LSTM\n",
        "embedded = tf.keras.layers.Embedding(vocab_size, 50)(in_text)\n",
        "bi1= tf.keras.layers.Bidirectional(keras.layers.LSTM(4, return_sequences=True))(embedded)\n",
        "bi2= tf.keras.layers.Bidirectional(keras.layers.LSTM(2, return_sequences=False))(embedded)\n",
        "\n",
        "# Concatenate layer to merge both gender input and name (after getting into sequence layers)\n",
        "merged = tf.keras.layers.Concatenate(axis=1)([in_gender, bi2])\n",
        "\n",
        "# Final layer of judgement which has sigmoid for binary classification\n",
        "valid = Dense(1,activation='sigmoid') (merged)\n",
        "\n",
        "# define model input/output using keys\n",
        "model = keras.Model(\n",
        "    inputs={\n",
        "        'Name':in_text,\n",
        "        'Gender':in_gender\n",
        "    },\n",
        "    outputs = valid   \n",
        ")\n",
        "\n",
        "# Model compilation of metrics used \n",
        "model.compile(\n",
        "    optimizer=Adam(),\n",
        "    loss= 'binary_crossentropy',\n",
        "    metrics='Accuracy',\n",
        "     \n",
        "\n",
        ")\n",
        "\n",
        "#Printing Model Summary\n",
        "print(model.summary())\n"
      ],
      "metadata": {
        "id": "JLDMeQKjfnUv",
        "colab": {
          "base_uri": "https://localhost:8080/"
        },
        "outputId": "eedb1505-6021-4991-c26e-7ca98298193c"
      },
      "execution_count": null,
      "outputs": [
        {
          "output_type": "stream",
          "name": "stdout",
          "text": [
            "Model: \"model_6\"\n",
            "__________________________________________________________________________________________________\n",
            " Layer (type)                   Output Shape         Param #     Connected to                     \n",
            "==================================================================================================\n",
            " name (InputLayer)              [(None, 36)]         0           []                               \n",
            "                                                                                                  \n",
            " embedding_7 (Embedding)        (None, 36, 50)       50000       ['name[0][0]']                   \n",
            "                                                                                                  \n",
            " gender (InputLayer)            [(None, 1)]          0           []                               \n",
            "                                                                                                  \n",
            " bidirectional_5 (Bidirectional  (None, 4)           848         ['embedding_7[0][0]']            \n",
            " )                                                                                                \n",
            "                                                                                                  \n",
            " concatenate_7 (Concatenate)    (None, 5)            0           ['gender[0][0]',                 \n",
            "                                                                  'bidirectional_5[0][0]']        \n",
            "                                                                                                  \n",
            " dense_6 (Dense)                (None, 1)            6           ['concatenate_7[0][0]']          \n",
            "                                                                                                  \n",
            "==================================================================================================\n",
            "Total params: 50,854\n",
            "Trainable params: 50,854\n",
            "Non-trainable params: 0\n",
            "__________________________________________________________________________________________________\n",
            "None\n"
          ]
        }
      ]
    },
    {
      "cell_type": "markdown",
      "source": [
        "Let's plot the model"
      ],
      "metadata": {
        "id": "njN1SM2N-Orf"
      }
    },
    {
      "cell_type": "code",
      "source": [
        "tf.keras.utils.plot_model(\n",
        "model, to_file='model.png', show_shapes=False, show_dtype=False,\n",
        "show_layer_names=True, rankdir='TB', expand_nested=False, dpi=96\n",
        ")"
      ],
      "metadata": {
        "colab": {
          "base_uri": "https://localhost:8080/",
          "height": 466
        },
        "id": "-HzrHK-5aAS-",
        "outputId": "b8ae62d3-78c3-4e6f-d9dc-13d113d7fe40"
      },
      "execution_count": null,
      "outputs": [
        {
          "output_type": "execute_result",
          "data": {
            "image/png": "[encoded data removed]",
            "text/plain": [
              "<IPython.core.display.Image object>"
            ]
          },
          "metadata": {},
          "execution_count": 179
        }
      ]
    },
    {
      "cell_type": "markdown",
      "source": [
        "###Train the model on training set"
      ],
      "metadata": {
        "id": "IjB0jJ0x_J2J"
      }
    },
    {
      "cell_type": "code",
      "source": [
        "history = model.fit(\n",
        "    x={\n",
        "        'Name':pre_name,\n",
        "        'Gender':xtr['gender']\n",
        "    },\n",
        "    y=ytr,\n",
        "    epochs=30,\n",
        "    batch_size=512,\n",
        "    validation_split=0.025,\n",
        "    callbacks=[\n",
        "        tf.keras.callbacks.EarlyStopping(monitor='val_loss', patience=3,restore_best_weights=True )\n",
        "    ],\n",
        "    verbose=1\n",
        ")"
      ],
      "metadata": {
        "colab": {
          "base_uri": "https://localhost:8080/"
        },
        "id": "PAe03jbOZ_oC",
        "outputId": "d3b05fa9-85cb-4591-9425-4ab8ffcca58f"
      },
      "execution_count": null,
      "outputs": [
        {
          "output_type": "stream",
          "name": "stdout",
          "text": [
            "Epoch 1/30\n",
            "7427/7427 [==============================] - 409s 54ms/step - loss: 0.4776 - Accuracy: 0.7644 - val_loss: 0.4067 - val_Accuracy: 0.8121\n",
            "Epoch 2/30\n",
            "7427/7427 [==============================] - 392s 53ms/step - loss: 0.3840 - Accuracy: 0.8257 - val_loss: 0.3676 - val_Accuracy: 0.8357\n",
            "Epoch 3/30\n",
            "7427/7427 [==============================] - 389s 52ms/step - loss: 0.3576 - Accuracy: 0.8419 - val_loss: 0.3454 - val_Accuracy: 0.8471\n",
            "Epoch 4/30\n",
            "7427/7427 [==============================] - 380s 51ms/step - loss: 0.3362 - Accuracy: 0.8538 - val_loss: 0.3400 - val_Accuracy: 0.8527\n",
            "Epoch 5/30\n",
            "7427/7427 [==============================] - 378s 51ms/step - loss: 0.3173 - Accuracy: 0.8653 - val_loss: 0.3142 - val_Accuracy: 0.8681\n",
            "Epoch 6/30\n",
            "7427/7427 [==============================] - 377s 51ms/step - loss: 0.3023 - Accuracy: 0.8753 - val_loss: 0.2955 - val_Accuracy: 0.8801\n",
            "Epoch 7/30\n",
            "7427/7427 [==============================] - 382s 51ms/step - loss: 0.2920 - Accuracy: 0.8825 - val_loss: 0.2960 - val_Accuracy: 0.8833\n",
            "Epoch 8/30\n",
            "7427/7427 [==============================] - 386s 52ms/step - loss: 0.2789 - Accuracy: 0.8921 - val_loss: 0.2807 - val_Accuracy: 0.8971\n",
            "Epoch 9/30\n",
            "7427/7427 [==============================] - 389s 52ms/step - loss: 0.2670 - Accuracy: 0.9013 - val_loss: 0.2624 - val_Accuracy: 0.9037\n",
            "Epoch 10/30\n",
            "7427/7427 [==============================] - 389s 52ms/step - loss: 0.2527 - Accuracy: 0.9121 - val_loss: 0.2415 - val_Accuracy: 0.9199\n",
            "Epoch 11/30\n",
            "7427/7427 [==============================] - 381s 51ms/step - loss: 0.2408 - Accuracy: 0.9198 - val_loss: 0.2300 - val_Accuracy: 0.9254\n",
            "Epoch 12/30\n",
            "7427/7427 [==============================] - 383s 52ms/step - loss: 0.2311 - Accuracy: 0.9255 - val_loss: 0.2427 - val_Accuracy: 0.9189\n",
            "Epoch 13/30\n",
            "7427/7427 [==============================] - 387s 52ms/step - loss: 0.2268 - Accuracy: 0.9277 - val_loss: 0.2304 - val_Accuracy: 0.9266\n",
            "Epoch 14/30\n",
            "7427/7427 [==============================] - 387s 52ms/step - loss: 0.2239 - Accuracy: 0.9290 - val_loss: 0.2127 - val_Accuracy: 0.9341\n",
            "Epoch 15/30\n",
            "7427/7427 [==============================] - 387s 52ms/step - loss: 0.2194 - Accuracy: 0.9311 - val_loss: 0.2066 - val_Accuracy: 0.9366\n",
            "Epoch 16/30\n",
            "7427/7427 [==============================] - 391s 53ms/step - loss: 0.2195 - Accuracy: 0.9316 - val_loss: 0.2781 - val_Accuracy: 0.9029\n",
            "Epoch 17/30\n",
            "7427/7427 [==============================] - 391s 53ms/step - loss: 0.2133 - Accuracy: 0.9337 - val_loss: 0.2072 - val_Accuracy: 0.9365\n",
            "Epoch 18/30\n",
            "7427/7427 [==============================] - 392s 53ms/step - loss: 0.2107 - Accuracy: 0.9348 - val_loss: 0.2053 - val_Accuracy: 0.9361\n",
            "Epoch 19/30\n",
            "7427/7427 [==============================] - 388s 52ms/step - loss: 0.2107 - Accuracy: 0.9348 - val_loss: 0.2377 - val_Accuracy: 0.9217\n",
            "Epoch 20/30\n",
            "7427/7427 [==============================] - 388s 52ms/step - loss: 0.2054 - Accuracy: 0.9366 - val_loss: 0.1910 - val_Accuracy: 0.9425\n",
            "Epoch 21/30\n",
            "7427/7427 [==============================] - 389s 52ms/step - loss: 0.2044 - Accuracy: 0.9370 - val_loss: 0.1885 - val_Accuracy: 0.9433\n",
            "Epoch 22/30\n",
            "7427/7427 [==============================] - 386s 52ms/step - loss: 0.2021 - Accuracy: 0.9380 - val_loss: 0.1913 - val_Accuracy: 0.9408\n",
            "Epoch 23/30\n",
            "7427/7427 [==============================] - 390s 53ms/step - loss: 0.2014 - Accuracy: 0.9385 - val_loss: 0.1908 - val_Accuracy: 0.9425\n",
            "Epoch 24/30\n",
            "7427/7427 [==============================] - 390s 53ms/step - loss: 0.3142 - Accuracy: 0.8612 - val_loss: 0.4980 - val_Accuracy: 0.7400\n"
          ]
        }
      ]
    },
    {
      "cell_type": "markdown",
      "source": [
        "###Evaluate the model performance using test data"
      ],
      "metadata": {
        "id": "02cuvwi-_P8h"
      }
    },
    {
      "cell_type": "code",
      "source": [
        "model.evaluate(\n",
        "    x={\n",
        "        'Name': pre_name_t,\n",
        "        'Gender': xts['gender']\n",
        "    },\n",
        "    y=yts\n",
        ")"
      ],
      "metadata": {
        "colab": {
          "base_uri": "https://localhost:8080/"
        },
        "id": "rUvNht0axK4g",
        "outputId": "6cef447d-a467-4aba-f466-6186a4d8d986"
      },
      "execution_count": null,
      "outputs": [
        {
          "output_type": "stream",
          "name": "stdout",
          "text": [
            "3125/3125 [==============================] - 18s 6ms/step - loss: 0.1911 - Accuracy: 0.9424\n"
          ]
        },
        {
          "output_type": "execute_result",
          "data": {
            "text/plain": [
              "[0.19114069640636444, 0.9423900246620178]"
            ]
          },
          "metadata": {},
          "execution_count": 181
        }
      ]
    },
    {
      "cell_type": "markdown",
      "source": [
        "Extract \"Accuracy\" values of test data to determine the label"
      ],
      "metadata": {
        "id": "UjefuJR4_jZc"
      }
    },
    {
      "cell_type": "code",
      "source": [
        "y_predict = model.predict(\n",
        "    {\n",
        "        'Name': pre_name_t,\n",
        "        'Gender': xts['gender']\n",
        "    }\n",
        ")"
      ],
      "metadata": {
        "colab": {
          "base_uri": "https://localhost:8080/"
        },
        "id": "3g3gQm3UXYjn",
        "outputId": "faf503a0-c8a6-4071-e563-56eaa67c4b45"
      },
      "execution_count": null,
      "outputs": [
        {
          "output_type": "stream",
          "name": "stdout",
          "text": [
            "3125/3125 [==============================] - 17s 5ms/step\n"
          ]
        }
      ]
    },
    {
      "cell_type": "code",
      "source": [
        "y_predict"
      ],
      "metadata": {
        "colab": {
          "base_uri": "https://localhost:8080/"
        },
        "id": "DkC8e7l-3YdB",
        "outputId": "4f2d7347-3cc0-4877-c6d6-a831490c3632"
      },
      "execution_count": null,
      "outputs": [
        {
          "output_type": "execute_result",
          "data": {
            "text/plain": [
              "array([[9.2654246e-01],\n",
              "       [7.9690823e-03],\n",
              "       [4.4470429e-03],\n",
              "       ...,\n",
              "       [2.1095020e-06],\n",
              "       [9.4318390e-01],\n",
              "       [9.5866007e-01]], dtype=float32)"
            ]
          },
          "metadata": {},
          "execution_count": 183
        }
      ]
    },
    {
      "cell_type": "code",
      "source": [
        "# Detect label of predictions\n",
        "def make_label(list_of_preds):\n",
        "  \"This function takes list of accuracies of predictions and returns a label 1 of valid name and 0 if invalid name\"\n",
        "  y_pred_labels=[]\n",
        "  for i in range(len(y_predict)):\n",
        "      if y_predict[i] > 0.5:\n",
        "          y_pred_labels.append(1)\n",
        "      else:\n",
        "          y_pred_labels.append(0)\n",
        "  return y_pred_labels"
      ],
      "metadata": {
        "id": "niHZF3W-6xr1"
      },
      "execution_count": 29,
      "outputs": []
    },
    {
      "cell_type": "code",
      "source": [
        "y_pred_labels=make_label(y_predict)"
      ],
      "metadata": {
        "id": "P3KruBZgBDlT"
      },
      "execution_count": null,
      "outputs": []
    },
    {
      "cell_type": "code",
      "source": [
        "from sklearn.metrics import confusion_matrix, classification_report\n",
        "conf_matrix = confusion_matrix(yts, y_pred_labels) ## confusion matrix\n",
        "class_report = classification_report(yts,y_pred_labels,zero_division=1) ## classification report\n",
        "print(\"Confusion matrix\\n\\n\" ,conf_matrix , \"\\n\")\n",
        "print(class_report)"
      ],
      "metadata": {
        "colab": {
          "base_uri": "https://localhost:8080/"
        },
        "id": "i2ECo1sEzPY0",
        "outputId": "f272adc8-6a13-4f5d-c5e5-d27ccc361a2a"
      },
      "execution_count": null,
      "outputs": [
        {
          "output_type": "stream",
          "name": "stdout",
          "text": [
            "Confusion matrix\n",
            "\n",
            " [[45092  4908]\n",
            " [ 1023 48977]] \n",
            "\n",
            "              precision    recall  f1-score   support\n",
            "\n",
            "           0       0.98      0.90      0.94     50000\n",
            "           1       0.91      0.98      0.94     50000\n",
            "\n",
            "    accuracy                           0.94    100000\n",
            "   macro avg       0.94      0.94      0.94    100000\n",
            "weighted avg       0.94      0.94      0.94    100000\n",
            "\n"
          ]
        }
      ]
    },
    {
      "cell_type": "markdown",
      "source": [
        "### Accuracy and Loss Curves"
      ],
      "metadata": {
        "id": "K17hvKRLMr39"
      }
    },
    {
      "cell_type": "code",
      "source": [
        "# Plotting  model training accuracy and validation accuracy curves with epochs \n",
        "plt.figure(figsize=(10, 8), )\n",
        "plt.subplot(1, 2, 1)\n",
        "plt.xlabel('Epochs')\n",
        "plt.ylabel('Accuracy')\n",
        "plt.plot(history.history['Accuracy'], label='Training Accuracy')\n",
        "plt.plot(history.history['Accuracy'], label='Validation Accuracy')\n",
        "plt.legend(loc='lower right')\n",
        "plt.title('                         ')\n",
        "\n",
        "# Plotting  model training loss and validation loss curves with epoch\n",
        "plt.subplot(1, 2, 2)\n",
        "plt.xlabel('Epochs')\n",
        "plt.ylabel('Loss')\n",
        "plt.plot(history.history['loss'], label='Training Loss')\n",
        "plt.plot(history.history['val_loss'], label='Validation Loss')\n",
        "plt.legend(loc='upper right')\n",
        "plt.show()"
      ],
      "metadata": {
        "id": "C21fXNKgzPOC",
        "colab": {
          "base_uri": "https://localhost:8080/",
          "height": 513
        },
        "outputId": "d20d623e-92ee-4e0c-bd47-d7181d8fb5b0"
      },
      "execution_count": null,
      "outputs": [
        {
          "output_type": "display_data",
          "data": {
            "text/plain": [
              "<Figure size 720x576 with 2 Axes>"
            ],
            "image/png": "[encoded data removed]"
          },
          "metadata": {
            "needs_background": "light"
          }
        }
      ]
    },
    {
      "cell_type": "code",
      "source": [
        "model.save('/content/drive/MyDrive/datasets/name_model_char_bi30')"
      ],
      "metadata": {
        "colab": {
          "base_uri": "https://localhost:8080/"
        },
        "id": "FxVdA1fJUP8j",
        "outputId": "65fe07dc-04d3-42d3-9416-aed59b7aa266"
      },
      "execution_count": null,
      "outputs": [
        {
          "output_type": "stream",
          "name": "stderr",
          "text": [
            "WARNING:absl:Found untraced functions such as lstm_cell_26_layer_call_fn, lstm_cell_26_layer_call_and_return_conditional_losses, lstm_cell_27_layer_call_fn, lstm_cell_27_layer_call_and_return_conditional_losses while saving (showing 4 of 4). These functions will not be directly callable after loading.\n"
          ]
        }
      ]
    },
    {
      "cell_type": "markdown",
      "source": [
        "## Model Re-load and Re-use\n",
        "This part is dedicated for making fast predictions without needing to run all above code.\n",
        "\n",
        "It has all needed imports and functions and model loading."
      ],
      "metadata": {
        "id": "5jZWAvTmpAO-"
      }
    },
    {
      "cell_type": "code",
      "source": [
        "import tensorflow as tf\n",
        "from tensorflow import keras\n",
        "from tensorflow.keras.preprocessing.text import Tokenizer\n",
        "from tensorflow.keras.preprocessing.sequence import pad_sequences"
      ],
      "metadata": {
        "id": "ne6bnUCkLVyb"
      },
      "execution_count": 28,
      "outputs": []
    },
    {
      "cell_type": "code",
      "source": [
        "reconstructed_model = keras.models.load_model(\"/content/drive/MyDrive/datasets/name_model_char_bi30\")"
      ],
      "metadata": {
        "id": "1ojkwAsrNjjk"
      },
      "execution_count": 5,
      "outputs": []
    },
    {
      "cell_type": "code",
      "source": [
        "def _preprocess(list_of_text):\n",
        "    return pad_sequences(\n",
        "        tokenizer.texts_to_sequences(list_of_text),\n",
        "        maxlen=max_len,\n",
        "        padding='post',\n",
        "    )\n",
        "def predict_label(name,gender):\n",
        "  pre_name=_preprocess([name])\n",
        "  gender=np.array([gender])\n",
        "  label=reconstructed_model.predict(\n",
        "        {\n",
        "        'Name': pre_name,\n",
        "        'Gender': gender\n",
        "    }\n",
        "  )\n",
        "  return label\n",
        "\n",
        "# Detect label of predictions\n",
        "def make_label(list_of_preds):\n",
        "  \"This function takes list of accuracies of predictions and returns a label 1 of valid name and 0 if invalid name\"\n",
        "  y_pred_labels=[]\n",
        "  for i in range(len(y_predict)):\n",
        "      if y_predict[i] > 0.5:\n",
        "          y_pred_labels.append(1)\n",
        "      else:\n",
        "          y_pred_labels.append(0)\n",
        "  return y_pred_labels"
      ],
      "metadata": {
        "id": "hbnMI4bRqtlo"
      },
      "execution_count": 30,
      "outputs": []
    },
    {
      "cell_type": "code",
      "source": [
        "# Build characters vocabulary from training set\n",
        "tokenizer = Tokenizer(num_words=False,char_level=True,oov_token='UNK')\n",
        "\n",
        "# Initialize voc\n",
        "char_voc={'UNK': 1, ' ': 2, 'ا': 3, 'م': 4, 'ي': 5, 'ر': 6, 'ن': 7, 'د': 8, 'ب': 9, 'ل': 10, 'س': 11, 'ف': 12, 'و': 13, 'ة': 14, 'ع': 15, 'ح': 16,  'ه': 17, 'ج': 18, 'ت': 19, 'ز': 20, 'ك': 21, 'ق': 22, 'ص': 23, 'ط': 24, 'ش': 25, 'أ': 26, 'خ': 27, 'ض': 28, 'ث': 29, 'غ': 30, 'ظ': 31, 'ذ': 32, 'ء': 33, 'إ': 34, 'ئ': 35, 'ى': 36, 'ؤ': 37, 'آ': 38}\n",
        "\n",
        "# Assign tokenizer voc\n",
        "tokenizer.word_index=char_voc"
      ],
      "metadata": {
        "id": "MHtsWtGcFHgi"
      },
      "execution_count": 24,
      "outputs": []
    },
    {
      "cell_type": "code",
      "source": [
        "name=\"هشام ريم أحمد\"\n",
        "gender = 0   #1 for male and 0 for female\n",
        "predict_label(name,1)"
      ],
      "metadata": {
        "colab": {
          "base_uri": "https://localhost:8080/"
        },
        "id": "wk86Cc7nP9Dk",
        "outputId": "336b6629-f3ca-41de-8bac-6294f82b25b6"
      },
      "execution_count": 31,
      "outputs": [
        {
          "output_type": "stream",
          "name": "stdout",
          "text": [
            "1/1 [==============================] - 0s 42ms/step\n"
          ]
        },
        {
          "output_type": "execute_result",
          "data": {
            "text/plain": [
              "array([[0.00685563]], dtype=float32)"
            ]
          },
          "metadata": {},
          "execution_count": 31
        }
      ]
    }
  ]
}