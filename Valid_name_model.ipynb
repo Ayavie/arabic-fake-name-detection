{
  "nbformat": 4,
  "nbformat_minor": 0,
  "metadata": {
    "colab": {
      "provenance": [],
      "mount_file_id": "1DpfbBcT-bX0zbBaVhGgQ8rfwZb0_ZKPx",
      "authorship_tag": "ABX9TyM4hNmNWYLhOffHNis/nVeu",
      "include_colab_link": true
    },
    "kernelspec": {
      "name": "python3",
      "display_name": "Python 3"
    },
    "language_info": {
      "name": "python"
    }
  },
  "cells": [
    {
      "cell_type": "markdown",
      "metadata": {
        "id": "view-in-github",
        "colab_type": "text"
      },
      "source": [
        "<a href=\"https://colab.research.google.com/github/Ayavie/arabic-fake-name-detection/blob/main/Valid_name_model.ipynb\" target=\"_parent\"><img src=\"https://colab.research.google.com/assets/colab-badge.svg\" alt=\"Open In Colab\"/></a>"
      ]
    },
    {
      "cell_type": "markdown",
      "source": [
        "## Problem Description ☕\n",
        "This notebook is created to tackle invalid name detection problem. NLP techniques are used to handle this problem.\n",
        "\n",
        "The challenge is to find the best way of preprocessing techniques for arabic names and creating the best combination of sequence model layers to get better outcome.\n",
        "\n",
        "The impact could be having much less fake arabic names in websites registeration by banning the fake ones for example.\n",
        "\n",
        "## Strategy used ✔️\n",
        "\n",
        "* Importing libraries and Investigation data\n",
        "* Data Preprocessing\n",
        "* Creating Bidirectional LSTM Model\n",
        "* Model Training\n",
        "* Model Evaluation\n",
        "* Model Tuning \n",
        "* Model Re-load and Re-use"
      ],
      "metadata": {
        "id": "d1VIwslbPsam"
      }
    },
    {
      "cell_type": "code",
      "source": [
        "#Imporing libraries\n",
        "import pandas as pd\n",
        "import numpy as np\n",
        "import matplotlib.pyplot as plt\n",
        "import seaborn as sb\n",
        "import pickle\n",
        "import tensorflow as tf\n",
        "from tensorflow import keras\n",
        "from tensorflow.keras.preprocessing.text import Tokenizer\n",
        "from tensorflow.keras.preprocessing.sequence import pad_sequences\n",
        "from tensorflow.keras.layers import Dense,Dropout\n",
        "from tensorflow.keras.optimizers import Adam,Nadam\n",
        "from keras.utils.vis_utils import plot_model\n",
        "from sklearn.model_selection import train_test_split\n",
        "tf.random.set_seed(1234)\n"
      ],
      "metadata": {
        "id": "dfSMQ9nk_vST"
      },
      "execution_count": 1,
      "outputs": []
    },
    {
      "cell_type": "markdown",
      "source": [
        "## Exploratory Data Analysis"
      ],
      "metadata": {
        "id": "uJnVF8eB-AtJ"
      }
    },
    {
      "cell_type": "code",
      "execution_count": 2,
      "metadata": {
        "colab": {
          "base_uri": "https://localhost:8080/",
          "height": 424
        },
        "id": "4vWBNSdX78m4",
        "outputId": "692e1d97-8c72-4244-9e67-dac193893d8e"
      },
      "outputs": [
        {
          "output_type": "execute_result",
          "data": {
            "text/plain": [
              "                      name gender  valid\n",
              "0          حسحاس نجدة تركي      M      1\n",
              "1           نصر نعمت زيدون      M      1\n",
              "2           جساس فيضي فهيم      M      1\n",
              "3           داود مالك رامز      M      1\n",
              "4          رائد مناع مستور      M      1\n",
              "...                    ...    ...    ...\n",
              "3999995      تمن ثاتضتابجر      F      0\n",
              "3999996  ميانممككومه لمطوع      F      0\n",
              "3999997      نكقذخلارخم نص      F      0\n",
              "3999998      يصمصميا مهمهب      F      0\n",
              "3999999    أذمينن شمدعب سي      F      0\n",
              "\n",
              "[4000000 rows x 3 columns]"
            ],
            "text/html": [
              "\n",
              "  <div id=\"df-1b93aecc-c46a-4cb1-aa29-5b34ef6c6a64\">\n",
              "    <div class=\"colab-df-container\">\n",
              "      <div>\n",
              "<style scoped>\n",
              "    .dataframe tbody tr th:only-of-type {\n",
              "        vertical-align: middle;\n",
              "    }\n",
              "\n",
              "    .dataframe tbody tr th {\n",
              "        vertical-align: top;\n",
              "    }\n",
              "\n",
              "    .dataframe thead th {\n",
              "        text-align: right;\n",
              "    }\n",
              "</style>\n",
              "<table border=\"1\" class=\"dataframe\">\n",
              "  <thead>\n",
              "    <tr style=\"text-align: right;\">\n",
              "      <th></th>\n",
              "      <th>name</th>\n",
              "      <th>gender</th>\n",
              "      <th>valid</th>\n",
              "    </tr>\n",
              "  </thead>\n",
              "  <tbody>\n",
              "    <tr>\n",
              "      <th>0</th>\n",
              "      <td>حسحاس نجدة تركي</td>\n",
              "      <td>M</td>\n",
              "      <td>1</td>\n",
              "    </tr>\n",
              "    <tr>\n",
              "      <th>1</th>\n",
              "      <td>نصر نعمت زيدون</td>\n",
              "      <td>M</td>\n",
              "      <td>1</td>\n",
              "    </tr>\n",
              "    <tr>\n",
              "      <th>2</th>\n",
              "      <td>جساس فيضي فهيم</td>\n",
              "      <td>M</td>\n",
              "      <td>1</td>\n",
              "    </tr>\n",
              "    <tr>\n",
              "      <th>3</th>\n",
              "      <td>داود مالك رامز</td>\n",
              "      <td>M</td>\n",
              "      <td>1</td>\n",
              "    </tr>\n",
              "    <tr>\n",
              "      <th>4</th>\n",
              "      <td>رائد مناع مستور</td>\n",
              "      <td>M</td>\n",
              "      <td>1</td>\n",
              "    </tr>\n",
              "    <tr>\n",
              "      <th>...</th>\n",
              "      <td>...</td>\n",
              "      <td>...</td>\n",
              "      <td>...</td>\n",
              "    </tr>\n",
              "    <tr>\n",
              "      <th>3999995</th>\n",
              "      <td>تمن ثاتضتابجر</td>\n",
              "      <td>F</td>\n",
              "      <td>0</td>\n",
              "    </tr>\n",
              "    <tr>\n",
              "      <th>3999996</th>\n",
              "      <td>ميانممككومه لمطوع</td>\n",
              "      <td>F</td>\n",
              "      <td>0</td>\n",
              "    </tr>\n",
              "    <tr>\n",
              "      <th>3999997</th>\n",
              "      <td>نكقذخلارخم نص</td>\n",
              "      <td>F</td>\n",
              "      <td>0</td>\n",
              "    </tr>\n",
              "    <tr>\n",
              "      <th>3999998</th>\n",
              "      <td>يصمصميا مهمهب</td>\n",
              "      <td>F</td>\n",
              "      <td>0</td>\n",
              "    </tr>\n",
              "    <tr>\n",
              "      <th>3999999</th>\n",
              "      <td>أذمينن شمدعب سي</td>\n",
              "      <td>F</td>\n",
              "      <td>0</td>\n",
              "    </tr>\n",
              "  </tbody>\n",
              "</table>\n",
              "<p>4000000 rows × 3 columns</p>\n",
              "</div>\n",
              "      <button class=\"colab-df-convert\" onclick=\"convertToInteractive('df-1b93aecc-c46a-4cb1-aa29-5b34ef6c6a64')\"\n",
              "              title=\"Convert this dataframe to an interactive table.\"\n",
              "              style=\"display:none;\">\n",
              "        \n",
              "  <svg xmlns=\"http://www.w3.org/2000/svg\" height=\"24px\"viewBox=\"0 0 24 24\"\n",
              "       width=\"24px\">\n",
              "    <path d=\"M0 0h24v24H0V0z\" fill=\"none\"/>\n",
              "    <path d=\"M18.56 5.44l.94 2.06.94-2.06 2.06-.94-2.06-.94-.94-2.06-.94 2.06-2.06.94zm-11 1L8.5 8.5l.94-2.06 2.06-.94-2.06-.94L8.5 2.5l-.94 2.06-2.06.94zm10 10l.94 2.06.94-2.06 2.06-.94-2.06-.94-.94-2.06-.94 2.06-2.06.94z\"/><path d=\"M17.41 7.96l-1.37-1.37c-.4-.4-.92-.59-1.43-.59-.52 0-1.04.2-1.43.59L10.3 9.45l-7.72 7.72c-.78.78-.78 2.05 0 2.83L4 21.41c.39.39.9.59 1.41.59.51 0 1.02-.2 1.41-.59l7.78-7.78 2.81-2.81c.8-.78.8-2.07 0-2.86zM5.41 20L4 18.59l7.72-7.72 1.47 1.35L5.41 20z\"/>\n",
              "  </svg>\n",
              "      </button>\n",
              "      \n",
              "  <style>\n",
              "    .colab-df-container {\n",
              "      display:flex;\n",
              "      flex-wrap:wrap;\n",
              "      gap: 12px;\n",
              "    }\n",
              "\n",
              "    .colab-df-convert {\n",
              "      background-color: #E8F0FE;\n",
              "      border: none;\n",
              "      border-radius: 50%;\n",
              "      cursor: pointer;\n",
              "      display: none;\n",
              "      fill: #1967D2;\n",
              "      height: 32px;\n",
              "      padding: 0 0 0 0;\n",
              "      width: 32px;\n",
              "    }\n",
              "\n",
              "    .colab-df-convert:hover {\n",
              "      background-color: #E2EBFA;\n",
              "      box-shadow: 0px 1px 2px rgba(60, 64, 67, 0.3), 0px 1px 3px 1px rgba(60, 64, 67, 0.15);\n",
              "      fill: #174EA6;\n",
              "    }\n",
              "\n",
              "    [theme=dark] .colab-df-convert {\n",
              "      background-color: #3B4455;\n",
              "      fill: #D2E3FC;\n",
              "    }\n",
              "\n",
              "    [theme=dark] .colab-df-convert:hover {\n",
              "      background-color: #434B5C;\n",
              "      box-shadow: 0px 1px 3px 1px rgba(0, 0, 0, 0.15);\n",
              "      filter: drop-shadow(0px 1px 2px rgba(0, 0, 0, 0.3));\n",
              "      fill: #FFFFFF;\n",
              "    }\n",
              "  </style>\n",
              "\n",
              "      <script>\n",
              "        const buttonEl =\n",
              "          document.querySelector('#df-1b93aecc-c46a-4cb1-aa29-5b34ef6c6a64 button.colab-df-convert');\n",
              "        buttonEl.style.display =\n",
              "          google.colab.kernel.accessAllowed ? 'block' : 'none';\n",
              "\n",
              "        async function convertToInteractive(key) {\n",
              "          const element = document.querySelector('#df-1b93aecc-c46a-4cb1-aa29-5b34ef6c6a64');\n",
              "          const dataTable =\n",
              "            await google.colab.kernel.invokeFunction('convertToInteractive',\n",
              "                                                     [key], {});\n",
              "          if (!dataTable) return;\n",
              "\n",
              "          const docLinkHtml = 'Like what you see? Visit the ' +\n",
              "            '<a target=\"_blank\" href=https://colab.research.google.com/notebooks/data_table.ipynb>data table notebook</a>'\n",
              "            + ' to learn more about interactive tables.';\n",
              "          element.innerHTML = '';\n",
              "          dataTable['output_type'] = 'display_data';\n",
              "          await google.colab.output.renderOutput(dataTable, element);\n",
              "          const docLink = document.createElement('div');\n",
              "          docLink.innerHTML = docLinkHtml;\n",
              "          element.appendChild(docLink);\n",
              "        }\n",
              "      </script>\n",
              "    </div>\n",
              "  </div>\n",
              "  "
            ]
          },
          "metadata": {},
          "execution_count": 2
        }
      ],
      "source": [
        "df = pd.read_csv(\"/content/drive/MyDrive/name_model/namesdataset.csv\")\n",
        "df"
      ]
    },
    {
      "cell_type": "code",
      "source": [
        "df.info()"
      ],
      "metadata": {
        "colab": {
          "base_uri": "https://localhost:8080/"
        },
        "id": "49KLVA4miDsI",
        "outputId": "127cfeca-2111-4f22-abe8-128969c7ac43"
      },
      "execution_count": 3,
      "outputs": [
        {
          "output_type": "stream",
          "name": "stdout",
          "text": [
            "<class 'pandas.core.frame.DataFrame'>\n",
            "RangeIndex: 4000000 entries, 0 to 3999999\n",
            "Data columns (total 3 columns):\n",
            " #   Column  Dtype \n",
            "---  ------  ----- \n",
            " 0   name    object\n",
            " 1   gender  object\n",
            " 2   valid   int64 \n",
            "dtypes: int64(1), object(2)\n",
            "memory usage: 91.6+ MB\n"
          ]
        }
      ]
    },
    {
      "cell_type": "code",
      "source": [
        "# Checking class balance and gender balance\n",
        "sb.countplot(data = df, x = 'valid', hue = 'gender');\n",
        "plt.title('Distribution of name validty in gender');\n",
        "plt.xlabel('Validty');\n",
        "plt.ylabel ('Number of Users');"
      ],
      "metadata": {
        "colab": {
          "base_uri": "https://localhost:8080/",
          "height": 295
        },
        "id": "15Pb8jEdcS62",
        "outputId": "bd945c70-20d2-4728-cb15-3c8b2bc8b65c"
      },
      "execution_count": 4,
      "outputs": [
        {
          "output_type": "display_data",
          "data": {
            "text/plain": [
              "<Figure size 432x288 with 1 Axes>"
            ],
            "image/png": "[encoded data removed]"
          },
          "metadata": {
            "needs_background": "light"
          }
        }
      ]
    },
    {
      "cell_type": "markdown",
      "source": [
        "Now, we are sure that classes are and gender are balanced to avoid any sampling bias."
      ],
      "metadata": {
        "id": "Xt7Eg0XOdpnr"
      }
    },
    {
      "cell_type": "code",
      "source": [
        "# Max length of name\n",
        "print(\"Max length of names: \",df['name'].map(lambda x: len(x)).max())\n",
        "\n",
        "# Min length of name\n",
        "print(\"Min length of names: \",df['name'].map(lambda x: len(x)).min())"
      ],
      "metadata": {
        "colab": {
          "base_uri": "https://localhost:8080/"
        },
        "id": "495nJcTTIgkI",
        "outputId": "dfd5ad60-4705-48ec-f173-f19065c7fead"
      },
      "execution_count": 5,
      "outputs": [
        {
          "output_type": "stream",
          "name": "stdout",
          "text": [
            "Max length of names:  36\n",
            "Min length of names:  9\n"
          ]
        }
      ]
    },
    {
      "cell_type": "code",
      "source": [
        "# Check number of duplicates \n",
        "df.duplicated().sum()"
      ],
      "metadata": {
        "colab": {
          "base_uri": "https://localhost:8080/"
        },
        "id": "jXN2ePWhW8GL",
        "outputId": "697423da-72bb-4918-86f6-e969d7341e22"
      },
      "execution_count": 6,
      "outputs": [
        {
          "output_type": "execute_result",
          "data": {
            "text/plain": [
              "7173"
            ]
          },
          "metadata": {},
          "execution_count": 6
        }
      ]
    },
    {
      "cell_type": "markdown",
      "source": [
        "We will drop the duplicates to avoid data leakage (Presence of the same data points in training and test sets)\n",
        "\n",
        "and it's okay because it won't hurt class balance as it is considered 0.0018% of our data"
      ],
      "metadata": {
        "id": "3silcjNNYFrJ"
      }
    },
    {
      "cell_type": "markdown",
      "source": [
        "## Data Preprocessing\n"
      ],
      "metadata": {
        "id": "v1oPaHiWB4th"
      }
    },
    {
      "cell_type": "markdown",
      "source": [
        "Let's drop duplicates."
      ],
      "metadata": {
        "id": "ULcEH8qag3FM"
      }
    },
    {
      "cell_type": "code",
      "source": [
        "df.drop_duplicates(inplace=True)\n",
        "print(\"Number of duplicates now: \",df.duplicated().sum())"
      ],
      "metadata": {
        "colab": {
          "base_uri": "https://localhost:8080/"
        },
        "id": "Zi9bKbR4Xo6G",
        "outputId": "90a3c917-0759-42a1-c362-640dc8eafa96"
      },
      "execution_count": 7,
      "outputs": [
        {
          "output_type": "stream",
          "name": "stdout",
          "text": [
            "Number of duplicates now:  0\n"
          ]
        }
      ]
    },
    {
      "cell_type": "markdown",
      "source": [
        "Let's drip \"gender\" column"
      ],
      "metadata": {
        "id": "q5JeaForHBCx"
      }
    },
    {
      "cell_type": "code",
      "source": [
        "df.drop(columns=[\"gender\"],inplace=True)\n",
        "\n",
        "#Making sure by printing column names\n",
        "df.columns"
      ],
      "metadata": {
        "id": "82FrACtrARHV",
        "colab": {
          "base_uri": "https://localhost:8080/"
        },
        "outputId": "7ca969f5-5bb6-4197-c272-9feb3c5f95fa"
      },
      "execution_count": 8,
      "outputs": [
        {
          "output_type": "execute_result",
          "data": {
            "text/plain": [
              "Index(['name', 'valid'], dtype='object')"
            ]
          },
          "metadata": {},
          "execution_count": 8
        }
      ]
    },
    {
      "cell_type": "markdown",
      "source": [
        "Let's split the data into train and test splits!"
      ],
      "metadata": {
        "id": "Jz6ax6wbPWbk"
      }
    },
    {
      "cell_type": "code",
      "source": [
        "X=df['name']\n",
        "y=df['valid']"
      ],
      "metadata": {
        "id": "ZnDtI9oOTtUx"
      },
      "execution_count": 9,
      "outputs": []
    },
    {
      "cell_type": "markdown",
      "source": [
        "We will only test with 100k of the data which is 0.025 of it"
      ],
      "metadata": {
        "id": "2t8fv5tziz6i"
      }
    },
    {
      "cell_type": "code",
      "source": [
        "# Train-test split\n",
        "xtr,xts,ytr,yts=train_test_split(X,y, test_size=0.025,stratify=y,random_state=42,shuffle=True)"
      ],
      "metadata": {
        "id": "ycLfBa2hQ7qm"
      },
      "execution_count": 10,
      "outputs": []
    },
    {
      "cell_type": "markdown",
      "source": [
        "In this problem, we will tokenize names character-wise as we can tell a name is valid or fake by knowing the combination of characters."
      ],
      "metadata": {
        "id": "65rRKt8kjBkQ"
      }
    },
    {
      "cell_type": "code",
      "source": [
        "max_len = 36  #Longest name length\n",
        "\n",
        "# Build characters vocabulary from training set\n",
        "tokenizer = Tokenizer(num_words=False,char_level=True,oov_token='UNK')\n",
        "# Fit the tokenizer on names in training set\n",
        "tokenizer.fit_on_texts(xtr)\n",
        "\n",
        "# function to preprocess the text by adding padding to make all of training examples of same max length (36 char)\n",
        "def _preprocess(list_of_text):\n",
        "    return pad_sequences(\n",
        "        tokenizer.texts_to_sequences(list_of_text),\n",
        "        maxlen=max_len,\n",
        "        padding='post',\n",
        "    )\n",
        "\n",
        "# Print tokenizer vocabulary after fitting on training set\n",
        "tokenizer.word_index"
      ],
      "metadata": {
        "id": "BjQSdRYlBZ5m",
        "colab": {
          "base_uri": "https://localhost:8080/"
        },
        "outputId": "04110644-1079-4867-8eb3-f7fc09d5fca8"
      },
      "execution_count": 12,
      "outputs": [
        {
          "output_type": "execute_result",
          "data": {
            "text/plain": [
              "{'UNK': 1,\n",
              " ' ': 2,\n",
              " 'ا': 3,\n",
              " 'م': 4,\n",
              " 'ي': 5,\n",
              " 'ر': 6,\n",
              " 'ن': 7,\n",
              " 'د': 8,\n",
              " 'ب': 9,\n",
              " 'ل': 10,\n",
              " 'س': 11,\n",
              " 'ف': 12,\n",
              " 'و': 13,\n",
              " 'ة': 14,\n",
              " 'ع': 15,\n",
              " 'ح': 16,\n",
              " 'ه': 17,\n",
              " 'ج': 18,\n",
              " 'ت': 19,\n",
              " 'ز': 20,\n",
              " 'ك': 21,\n",
              " 'ق': 22,\n",
              " 'ص': 23,\n",
              " 'ط': 24,\n",
              " 'ش': 25,\n",
              " 'أ': 26,\n",
              " 'خ': 27,\n",
              " 'ض': 28,\n",
              " 'ث': 29,\n",
              " 'غ': 30,\n",
              " 'ظ': 31,\n",
              " 'ذ': 32,\n",
              " 'ء': 33,\n",
              " 'إ': 34,\n",
              " 'ئ': 35,\n",
              " 'ى': 36,\n",
              " 'ؤ': 37,\n",
              " 'آ': 38}"
            ]
          },
          "metadata": {},
          "execution_count": 12
        }
      ]
    },
    {
      "cell_type": "code",
      "source": [
        "# saving tokenizer object for later use\n",
        "pickle.dump(tokenizer, open('/content/drive/MyDrive/name_model/tokenizer4.pickle', 'wb'),protocol=4)"
      ],
      "metadata": {
        "id": "PcaDZK1yS1cz"
      },
      "execution_count": 13,
      "outputs": []
    },
    {
      "cell_type": "code",
      "source": [
        "#pickle.dump(tokenizer, open('/content/drive/MyDrive/name_model/tokenizer5.pickle', 'wb'),protocol=5)"
      ],
      "metadata": {
        "id": "7aXqJVN8Qxip"
      },
      "execution_count": 65,
      "outputs": []
    },
    {
      "cell_type": "code",
      "source": [
        "vocab_size=500 "
      ],
      "metadata": {
        "id": "GvTUnLzAH23q"
      },
      "execution_count": 16,
      "outputs": []
    },
    {
      "cell_type": "markdown",
      "source": [
        "Let's preprocess training data (Add padding)"
      ],
      "metadata": {
        "id": "zEfIV8__nXki"
      }
    },
    {
      "cell_type": "code",
      "source": [
        "# padding is added\n",
        "pre_name = _preprocess(xtr)\n",
        "print(pre_name.shape)"
      ],
      "metadata": {
        "colab": {
          "base_uri": "https://localhost:8080/"
        },
        "id": "byYTzQyQFGlG",
        "outputId": "060f6f93-e0aa-4945-9e07-6210d07951e1"
      },
      "execution_count": 17,
      "outputs": [
        {
          "output_type": "stream",
          "name": "stdout",
          "text": [
            "(3893006, 36)\n"
          ]
        }
      ]
    },
    {
      "cell_type": "markdown",
      "source": [
        "The data dimension after preprocessing represent (Number of training examples, length_of_each_training_example)"
      ],
      "metadata": {
        "id": "MGOcyFnXndqE"
      }
    },
    {
      "cell_type": "code",
      "source": [
        "# Check the first name vector\n",
        "print(\"First vector: \", pre_name[0])\n",
        "print(\"First vector shape: \",pre_name[0].shape)"
      ],
      "metadata": {
        "colab": {
          "base_uri": "https://localhost:8080/"
        },
        "id": "7Bh1bmf-_P3A",
        "outputId": "1097acbc-81af-4b7c-8c1b-3caa21429b3c"
      },
      "execution_count": 18,
      "outputs": [
        {
          "output_type": "stream",
          "name": "stdout",
          "text": [
            "First vector:  [32  9  5  3  7 14  2  4 12 19  3 16  2  6  5  3  7  0  0  0  0  0  0  0\n",
            "  0  0  0  0  0  0  0  0  0  0  0  0]\n",
            "First vector shape:  (36,)\n"
          ]
        }
      ]
    },
    {
      "cell_type": "code",
      "source": [
        "# Convert vector IDs to words\n",
        "print(tokenizer.sequences_to_texts(pre_name[:1]))"
      ],
      "metadata": {
        "colab": {
          "base_uri": "https://localhost:8080/"
        },
        "id": "EEe_8zue-UYr",
        "outputId": "0d73462d-27a6-4799-81d8-969eecf0439b"
      },
      "execution_count": 19,
      "outputs": [
        {
          "output_type": "stream",
          "name": "stdout",
          "text": [
            "['ذ ب ي ا ن ة   م ف ت ا ح   ر ي ا ن UNK UNK UNK UNK UNK UNK UNK UNK UNK UNK UNK UNK UNK UNK UNK UNK UNK UNK UNK']\n"
          ]
        }
      ]
    },
    {
      "cell_type": "markdown",
      "source": [
        "Let's preprocess test data as well"
      ],
      "metadata": {
        "id": "MyC4lymQo9PS"
      }
    },
    {
      "cell_type": "code",
      "source": [
        "# Add padding to test set to have max length\n",
        "pre_name_t = _preprocess(xts)"
      ],
      "metadata": {
        "id": "9TU8eMp8eKiL"
      },
      "execution_count": 20,
      "outputs": []
    },
    {
      "cell_type": "markdown",
      "source": [
        "## Model Building\n",
        "We will use sequence model to tackle this problem as it considers dependencies of sequential order.\n",
        "\n",
        "> * The model's input: gender and name\n",
        "> * The model's output: accuracy of validity\n",
        "> * Using \"Accuracy\" as a metric is a good choice "
      ],
      "metadata": {
        "id": "nXvFLfcf2LAs"
      }
    },
    {
      "cell_type": "code",
      "source": [
        "# Input of both name and gender\n",
        "in_name=tf.keras.Input(batch_shape=(None, max_len),name='name')\n",
        "\n",
        "# Embedding layer and two Bidirectional LSTM\n",
        "embedded = tf.keras.layers.Embedding(vocab_size, 50)(in_name)\n",
        "bi1= tf.keras.layers.Bidirectional(keras.layers.LSTM(4, return_sequences=True))(embedded)\n",
        "bi2= tf.keras.layers.Bidirectional(keras.layers.LSTM(2, return_sequences=False))(bi1)\n",
        "# Final layer of judgement which has sigmoid for binary classification\n",
        "valid = Dense(1,activation='sigmoid') (bi2)\n",
        "\n",
        "# define model input/output using keys\n",
        "model = keras.Model(\n",
        "    inputs=in_name,\n",
        "    outputs = valid   \n",
        ")\n",
        "\n",
        "# Model compilation of metrics used \n",
        "model.compile(\n",
        "    optimizer=Adam(),\n",
        "    loss= 'binary_crossentropy',\n",
        "    metrics='Accuracy',\n",
        "     \n",
        "\n",
        ")\n",
        "\n",
        "#Printing Model Summary\n",
        "print(model.summary())\n"
      ],
      "metadata": {
        "id": "JLDMeQKjfnUv",
        "colab": {
          "base_uri": "https://localhost:8080/"
        },
        "outputId": "c2ee7229-d8e2-4284-a318-59ce3a6293a3"
      },
      "execution_count": 22,
      "outputs": [
        {
          "output_type": "stream",
          "name": "stdout",
          "text": [
            "Model: \"model_1\"\n",
            "_________________________________________________________________\n",
            " Layer (type)                Output Shape              Param #   \n",
            "=================================================================\n",
            " name (InputLayer)           [(None, 36)]              0         \n",
            "                                                                 \n",
            " embedding_1 (Embedding)     (None, 36, 50)            25000     \n",
            "                                                                 \n",
            " bidirectional_2 (Bidirectio  (None, 36, 8)            1760      \n",
            " nal)                                                            \n",
            "                                                                 \n",
            " bidirectional_3 (Bidirectio  (None, 4)                176       \n",
            " nal)                                                            \n",
            "                                                                 \n",
            " dense_1 (Dense)             (None, 1)                 5         \n",
            "                                                                 \n",
            "=================================================================\n",
            "Total params: 26,941\n",
            "Trainable params: 26,941\n",
            "Non-trainable params: 0\n",
            "_________________________________________________________________\n",
            "None\n"
          ]
        }
      ]
    },
    {
      "cell_type": "markdown",
      "source": [
        "Let's plot the model"
      ],
      "metadata": {
        "id": "njN1SM2N-Orf"
      }
    },
    {
      "cell_type": "code",
      "source": [
        "tf.keras.utils.plot_model(\n",
        "model, to_file='model.png', show_shapes=False, show_dtype=False,\n",
        "show_layer_names=True, rankdir='TB', expand_nested=False, dpi=96\n",
        ")"
      ],
      "metadata": {
        "colab": {
          "base_uri": "https://localhost:8080/",
          "height": 466
        },
        "id": "-HzrHK-5aAS-",
        "outputId": "4855e28e-c64e-4c2f-95ac-609bf813da4e"
      },
      "execution_count": 23,
      "outputs": [
        {
          "output_type": "execute_result",
          "data": {
            "image/png": "[encoded data removed]",
            "text/plain": [
              "<IPython.core.display.Image object>"
            ]
          },
          "metadata": {},
          "execution_count": 23
        }
      ]
    },
    {
      "cell_type": "markdown",
      "source": [
        "###Train the model on training set"
      ],
      "metadata": {
        "id": "IjB0jJ0x_J2J"
      }
    },
    {
      "cell_type": "code",
      "source": [
        "history = model.fit(\n",
        "    x=pre_name,\n",
        "    y=ytr,\n",
        "    epochs=30,\n",
        "    batch_size=512,\n",
        "    validation_split=0.025,\n",
        "    callbacks=[\n",
        "        tf.keras.callbacks.EarlyStopping(monitor='val_loss', patience=3,restore_best_weights=True )\n",
        "    ],\n",
        "    verbose=1\n",
        ")"
      ],
      "metadata": {
        "colab": {
          "base_uri": "https://localhost:8080/"
        },
        "id": "PAe03jbOZ_oC",
        "outputId": "67231965-4cd9-4e97-c8ee-ec135c54c12f"
      },
      "execution_count": 24,
      "outputs": [
        {
          "output_type": "stream",
          "name": "stdout",
          "text": [
            "Epoch 1/30\n",
            "7414/7414 [==============================] - 638s 85ms/step - loss: 0.3345 - Accuracy: 0.8559 - val_loss: 0.2617 - val_Accuracy: 0.8986\n",
            "Epoch 2/30\n",
            "7414/7414 [==============================] - 583s 79ms/step - loss: 0.2332 - Accuracy: 0.9124 - val_loss: 0.2138 - val_Accuracy: 0.9217\n",
            "Epoch 3/30\n",
            "7414/7414 [==============================] - 585s 79ms/step - loss: 0.1932 - Accuracy: 0.9315 - val_loss: 0.1739 - val_Accuracy: 0.9405\n",
            "Epoch 4/30\n",
            "7414/7414 [==============================] - 600s 81ms/step - loss: 0.1683 - Accuracy: 0.9431 - val_loss: 0.1566 - val_Accuracy: 0.9489\n",
            "Epoch 5/30\n",
            "7414/7414 [==============================] - 614s 83ms/step - loss: 0.1505 - Accuracy: 0.9513 - val_loss: 0.1422 - val_Accuracy: 0.9548\n",
            "Epoch 6/30\n",
            "7414/7414 [==============================] - 617s 83ms/step - loss: 0.1385 - Accuracy: 0.9566 - val_loss: 0.1334 - val_Accuracy: 0.9587\n",
            "Epoch 7/30\n",
            "7414/7414 [==============================] - 639s 86ms/step - loss: 0.1283 - Accuracy: 0.9606 - val_loss: 0.1216 - val_Accuracy: 0.9630\n",
            "Epoch 8/30\n",
            "7414/7414 [==============================] - 596s 80ms/step - loss: 0.1179 - Accuracy: 0.9648 - val_loss: 0.1740 - val_Accuracy: 0.9409\n",
            "Epoch 9/30\n",
            "7414/7414 [==============================] - 649s 88ms/step - loss: 0.1102 - Accuracy: 0.9677 - val_loss: 0.1325 - val_Accuracy: 0.9577\n",
            "Epoch 10/30\n",
            "7414/7414 [==============================] - 633s 85ms/step - loss: 0.1042 - Accuracy: 0.9700 - val_loss: 0.0970 - val_Accuracy: 0.9732\n",
            "Epoch 11/30\n",
            "7414/7414 [==============================] - 626s 84ms/step - loss: 0.0993 - Accuracy: 0.9720 - val_loss: 0.0956 - val_Accuracy: 0.9737\n",
            "Epoch 12/30\n",
            "7414/7414 [==============================] - 662s 89ms/step - loss: 0.0954 - Accuracy: 0.9734 - val_loss: 0.0899 - val_Accuracy: 0.9758\n",
            "Epoch 13/30\n",
            "7414/7414 [==============================] - 688s 93ms/step - loss: 0.0920 - Accuracy: 0.9746 - val_loss: 0.0943 - val_Accuracy: 0.9739\n",
            "Epoch 14/30\n",
            "7414/7414 [==============================] - 685s 92ms/step - loss: 0.0888 - Accuracy: 0.9757 - val_loss: 0.0930 - val_Accuracy: 0.9743\n",
            "Epoch 15/30\n",
            "7414/7414 [==============================] - 679s 92ms/step - loss: 0.0868 - Accuracy: 0.9764 - val_loss: 0.0833 - val_Accuracy: 0.9781\n",
            "Epoch 16/30\n",
            "7414/7414 [==============================] - 706s 95ms/step - loss: 0.0854 - Accuracy: 0.9769 - val_loss: 0.0827 - val_Accuracy: 0.9785\n",
            "Epoch 17/30\n",
            "7414/7414 [==============================] - 673s 91ms/step - loss: 0.0832 - Accuracy: 0.9776 - val_loss: 0.0820 - val_Accuracy: 0.9780\n",
            "Epoch 18/30\n",
            "7414/7414 [==============================] - 664s 90ms/step - loss: 0.0817 - Accuracy: 0.9781 - val_loss: 0.0776 - val_Accuracy: 0.9796\n",
            "Epoch 19/30\n",
            "7414/7414 [==============================] - 687s 93ms/step - loss: 0.0799 - Accuracy: 0.9787 - val_loss: 0.0821 - val_Accuracy: 0.9781\n",
            "Epoch 20/30\n",
            "7414/7414 [==============================] - 677s 91ms/step - loss: 0.0779 - Accuracy: 0.9792 - val_loss: 0.0748 - val_Accuracy: 0.9802\n",
            "Epoch 21/30\n",
            "7414/7414 [==============================] - 679s 92ms/step - loss: 0.0747 - Accuracy: 0.9802 - val_loss: 0.0748 - val_Accuracy: 0.9799\n",
            "Epoch 22/30\n",
            "7414/7414 [==============================] - 674s 91ms/step - loss: 0.0728 - Accuracy: 0.9807 - val_loss: 0.0746 - val_Accuracy: 0.9803\n",
            "Epoch 23/30\n",
            "7414/7414 [==============================] - 680s 92ms/step - loss: 0.0707 - Accuracy: 0.9812 - val_loss: 0.0701 - val_Accuracy: 0.9813\n",
            "Epoch 24/30\n",
            "7414/7414 [==============================] - 674s 91ms/step - loss: 0.0695 - Accuracy: 0.9814 - val_loss: 0.0693 - val_Accuracy: 0.9811\n",
            "Epoch 25/30\n",
            "7414/7414 [==============================] - 686s 93ms/step - loss: 0.0682 - Accuracy: 0.9817 - val_loss: 0.0706 - val_Accuracy: 0.9810\n",
            "Epoch 26/30\n",
            "7414/7414 [==============================] - 686s 93ms/step - loss: 0.0669 - Accuracy: 0.9819 - val_loss: 0.0728 - val_Accuracy: 0.9786\n",
            "Epoch 27/30\n",
            "7414/7414 [==============================] - 690s 93ms/step - loss: 0.0656 - Accuracy: 0.9821 - val_loss: 0.0631 - val_Accuracy: 0.9830\n",
            "Epoch 28/30\n",
            "7414/7414 [==============================] - 684s 92ms/step - loss: 0.0646 - Accuracy: 0.9824 - val_loss: 0.0646 - val_Accuracy: 0.9826\n",
            "Epoch 29/30\n",
            "7414/7414 [==============================] - 692s 93ms/step - loss: 0.0633 - Accuracy: 0.9827 - val_loss: 0.0659 - val_Accuracy: 0.9820\n",
            "Epoch 30/30\n",
            "7414/7414 [==============================] - 696s 94ms/step - loss: 0.0621 - Accuracy: 0.9830 - val_loss: 0.0617 - val_Accuracy: 0.9834\n"
          ]
        }
      ]
    },
    {
      "cell_type": "code",
      "source": [
        "# Saving the model\n",
        "pickle.dump(model, open('/content/drive/MyDrive/name_model/model.pickle', 'wb'),protocol=4)"
      ],
      "metadata": {
        "colab": {
          "base_uri": "https://localhost:8080/"
        },
        "id": "UX0Wm-4yXAo2",
        "outputId": "783cce26-246c-45f5-cb62-f1e27e111a47"
      },
      "execution_count": 80,
      "outputs": [
        {
          "output_type": "stream",
          "name": "stderr",
          "text": [
            "WARNING:absl:Found untraced functions such as lstm_cell_7_layer_call_fn, lstm_cell_7_layer_call_and_return_conditional_losses, lstm_cell_8_layer_call_fn, lstm_cell_8_layer_call_and_return_conditional_losses, lstm_cell_10_layer_call_fn while saving (showing 5 of 8). These functions will not be directly callable after loading.\n"
          ]
        }
      ]
    },
    {
      "cell_type": "code",
      "source": [
        "# Saving the model\n",
        "#pickle.dump(model, open('/content/drive/MyDrive/datasets/model5.pickle', 'wb'),protocol=5)"
      ],
      "metadata": {
        "id": "78I1Nr8JQdEf"
      },
      "execution_count": 37,
      "outputs": []
    },
    {
      "cell_type": "markdown",
      "source": [
        "###Evaluate the model performance using test data"
      ],
      "metadata": {
        "id": "02cuvwi-_P8h"
      }
    },
    {
      "cell_type": "code",
      "source": [
        "model.evaluate(pre_name_t,yts)"
      ],
      "metadata": {
        "colab": {
          "base_uri": "https://localhost:8080/"
        },
        "id": "rUvNht0axK4g",
        "outputId": "af8200fe-30e6-49b4-c2a7-29bfcfb120eb"
      },
      "execution_count": 29,
      "outputs": [
        {
          "output_type": "stream",
          "name": "stdout",
          "text": [
            "3120/3120 [==============================] - 34s 11ms/step - loss: 0.0606 - Accuracy: 0.9835\n"
          ]
        },
        {
          "output_type": "execute_result",
          "data": {
            "text/plain": [
              "[0.06061725318431854, 0.9834503531455994]"
            ]
          },
          "metadata": {},
          "execution_count": 29
        }
      ]
    },
    {
      "cell_type": "markdown",
      "source": [
        "Extract \"Accuracy\" values of test data to determine the label"
      ],
      "metadata": {
        "id": "UjefuJR4_jZc"
      }
    },
    {
      "cell_type": "code",
      "source": [
        "y_predict = model.predict(pre_name_t)"
      ],
      "metadata": {
        "colab": {
          "base_uri": "https://localhost:8080/"
        },
        "id": "3g3gQm3UXYjn",
        "outputId": "2b0e84d9-c1d9-4451-ea10-479d8d202dca"
      },
      "execution_count": 30,
      "outputs": [
        {
          "output_type": "stream",
          "name": "stdout",
          "text": [
            "3120/3120 [==============================] - 33s 10ms/step\n"
          ]
        }
      ]
    },
    {
      "cell_type": "code",
      "source": [
        "y_predict"
      ],
      "metadata": {
        "colab": {
          "base_uri": "https://localhost:8080/"
        },
        "id": "DkC8e7l-3YdB",
        "outputId": "fac099df-52a4-4bd5-c1a8-a1d0b224a087"
      },
      "execution_count": 31,
      "outputs": [
        {
          "output_type": "execute_result",
          "data": {
            "text/plain": [
              "array([[3.9954495e-05],\n",
              "       [3.1893698e-05],\n",
              "       [9.8957807e-01],\n",
              "       ...,\n",
              "       [2.0227873e-05],\n",
              "       [9.7858703e-01],\n",
              "       [1.3432930e-04]], dtype=float32)"
            ]
          },
          "metadata": {},
          "execution_count": 31
        }
      ]
    },
    {
      "cell_type": "code",
      "source": [
        "# Detect label of predictions\n",
        "def make_label(list_of_preds):\n",
        "  \"This function takes list of accuracies of predictions and returns a label 1 of valid name and 0 if invalid name\"\n",
        "  y_pred_labels=[]\n",
        "  for i in range(len(y_predict)):\n",
        "      if y_predict[i] > 0.5:\n",
        "          y_pred_labels.append(1)\n",
        "      else:\n",
        "          y_pred_labels.append(0)\n",
        "  return y_pred_labels"
      ],
      "metadata": {
        "id": "niHZF3W-6xr1"
      },
      "execution_count": 32,
      "outputs": []
    },
    {
      "cell_type": "code",
      "source": [
        "y_pred_labels=make_label(y_predict)"
      ],
      "metadata": {
        "id": "P3KruBZgBDlT"
      },
      "execution_count": 33,
      "outputs": []
    },
    {
      "cell_type": "code",
      "source": [
        "from sklearn.metrics import confusion_matrix, classification_report\n",
        "conf_matrix = confusion_matrix(yts, y_pred_labels) ## confusion matrix\n",
        "class_report = classification_report(yts,y_pred_labels,zero_division=1) ## classification report\n",
        "print(\"Confusion matrix\\n\\n\" ,conf_matrix , \"\\n\")\n",
        "print(class_report)"
      ],
      "metadata": {
        "colab": {
          "base_uri": "https://localhost:8080/"
        },
        "id": "i2ECo1sEzPY0",
        "outputId": "cef75193-3229-434c-b3c1-286ac1989216"
      },
      "execution_count": 34,
      "outputs": [
        {
          "output_type": "stream",
          "name": "stdout",
          "text": [
            "Confusion matrix\n",
            "\n",
            " [[48375  1613]\n",
            " [   39 49794]] \n",
            "\n",
            "              precision    recall  f1-score   support\n",
            "\n",
            "           0       1.00      0.97      0.98     49988\n",
            "           1       0.97      1.00      0.98     49833\n",
            "\n",
            "    accuracy                           0.98     99821\n",
            "   macro avg       0.98      0.98      0.98     99821\n",
            "weighted avg       0.98      0.98      0.98     99821\n",
            "\n"
          ]
        }
      ]
    },
    {
      "cell_type": "markdown",
      "source": [
        "The model Neither suffers from overfitting nor underfitting as the testing accuracy is almost the same accuracy of the best model in training.\n",
        "\n",
        "But the True Negative is 1.6K which means there are alot of valid names the model didn't recognize.\n",
        "\n",
        "As a solution to that I consider in future work to change strategy of creating the dataset, in which the names should be created with all combination of names. This would help the model catch the valid name but will provide more resources as well."
      ],
      "metadata": {
        "id": "Ky3mEygheiB4"
      }
    },
    {
      "cell_type": "markdown",
      "source": [
        "Let's check rate of True Positive and True Negative to get intuition how to set a threshold for label prediction."
      ],
      "metadata": {
        "id": "3x1utjUnOX0g"
      }
    },
    {
      "cell_type": "code",
      "source": [
        "avg_tp_rate=[]\n",
        "avg_tn_rate=[]\n",
        "for i in range(len(yts)):\n",
        "  if yts.iloc[i]==1:\n",
        "    if yts.iloc[i]==y_pred_labels[i]:\n",
        "      avg_tp_rate.append(y_predict[i][0])\n",
        "  else:\n",
        "    if yts.iloc[i]==y_pred_labels[i]:\n",
        "      avg_tn_rate.append(y_predict[i][0])\n",
        "print(\"Average of Accuracies of True Positive rate \",np.mean(avg_tp_rate))\n",
        "print(\"Average of Accuracies of True Negative rate \",np.mean(avg_tn_rate))\n"
      ],
      "metadata": {
        "colab": {
          "base_uri": "https://localhost:8080/"
        },
        "id": "vVk8zG8gL7I8",
        "outputId": "5bbabba4-a4a9-432d-e1b4-ecfd18cf9547"
      },
      "execution_count": 74,
      "outputs": [
        {
          "output_type": "stream",
          "name": "stdout",
          "text": [
            "Average of Accuracies of True Positive rate  0.97376466\n",
            "Average of Accuracies of True Negative rate  0.0013849922\n"
          ]
        }
      ]
    },
    {
      "cell_type": "markdown",
      "source": [
        "There's a huge gab between the two rates which implies the certainty of model about both valid names and also invalid names. I believe we can set a threshold close to 0.97. We'll set a threshold of value $0.9$."
      ],
      "metadata": {
        "id": "Nxlz5hELOmJ4"
      }
    },
    {
      "cell_type": "markdown",
      "source": [
        "#### Accuracy and Loss Curves"
      ],
      "metadata": {
        "id": "K17hvKRLMr39"
      }
    },
    {
      "cell_type": "code",
      "source": [
        "# Plotting  model training accuracy and validation accuracy curves with epochs \n",
        "plt.figure(figsize=(10, 8), )\n",
        "plt.subplot(1, 2, 1)\n",
        "plt.xlabel('Epochs')\n",
        "plt.ylabel('Accuracy')\n",
        "plt.plot(history.history['Accuracy'], label='Training Accuracy')\n",
        "plt.plot(history.history['Accuracy'], label='Validation Accuracy')\n",
        "plt.legend(loc='lower right')\n",
        "plt.title('                         ')\n",
        "\n",
        "# Plotting  model training loss and validation loss curves with epoch\n",
        "plt.subplot(1, 2, 2)\n",
        "plt.xlabel('Epochs')\n",
        "plt.ylabel('Loss')\n",
        "plt.plot(history.history['loss'], label='Training Loss')\n",
        "plt.plot(history.history['val_loss'], label='Validation Loss')\n",
        "plt.legend(loc='upper right')\n",
        "plt.show()"
      ],
      "metadata": {
        "id": "C21fXNKgzPOC",
        "colab": {
          "base_uri": "https://localhost:8080/",
          "height": 513
        },
        "outputId": "061a34cc-add9-42b1-ef0c-1a2ed9829635"
      },
      "execution_count": 35,
      "outputs": [
        {
          "output_type": "display_data",
          "data": {
            "text/plain": [
              "<Figure size 720x576 with 2 Axes>"
            ],
            "image/png": "[encoded data removed]"
          },
          "metadata": {
            "needs_background": "light"
          }
        }
      ]
    },
    {
      "cell_type": "markdown",
      "source": [
        "We can tell from the graphs that training and validation accuracy are almost the same (as we can not see training accuracy curve).\n",
        "\n",
        "As for the loss, it started with a bigger value than validation loss which is okay as they don't have big difference but overall, the loss for both curves are decreasing ina monotonic pattern which is good (Expect for one part)."
      ],
      "metadata": {
        "id": "-hGS6tRWSbPJ"
      }
    },
    {
      "cell_type": "code",
      "source": [
        "model.save('/content/drive/MyDrive/name_model/name_model_char_bi30')"
      ],
      "metadata": {
        "colab": {
          "base_uri": "https://localhost:8080/"
        },
        "id": "FxVdA1fJUP8j",
        "outputId": "65ae41f9-c42c-4932-f3ac-2b35a7fe19b8"
      },
      "execution_count": 36,
      "outputs": [
        {
          "output_type": "stream",
          "name": "stderr",
          "text": [
            "WARNING:absl:Found untraced functions such as lstm_cell_7_layer_call_fn, lstm_cell_7_layer_call_and_return_conditional_losses, lstm_cell_8_layer_call_fn, lstm_cell_8_layer_call_and_return_conditional_losses, lstm_cell_10_layer_call_fn while saving (showing 5 of 8). These functions will not be directly callable after loading.\n"
          ]
        }
      ]
    },
    {
      "cell_type": "markdown",
      "source": [
        "## Model Re-load and Re-use\n",
        "This part is dedicated for making fast predictions without needing to run all above code.\n",
        "\n",
        "It has all needed imports and functions and model loading."
      ],
      "metadata": {
        "id": "5jZWAvTmpAO-"
      }
    },
    {
      "cell_type": "code",
      "source": [
        "import tensorflow as tf\n",
        "from tensorflow import keras\n",
        "from tensorflow.keras.preprocessing.text import Tokenizer\n",
        "from tensorflow.keras.preprocessing.sequence import pad_sequences"
      ],
      "metadata": {
        "id": "ne6bnUCkLVyb"
      },
      "execution_count": null,
      "outputs": []
    },
    {
      "cell_type": "code",
      "source": [
        "# Loading Model\n",
        "reconstructed_model = keras.models.load_model(\"/content/drive/MyDrive/name_model/name_model_char_bi30\")\n",
        "\n",
        "# Or we can use pickled model\n",
        "# pickled_model = pickle.load(open('model.pkl', 'rb'))"
      ],
      "metadata": {
        "id": "1ojkwAsrNjjk"
      },
      "execution_count": 42,
      "outputs": []
    },
    {
      "cell_type": "code",
      "source": [
        "# loading tokenizer object\n",
        "tokenizer = pickle.load(open('/content/drive/MyDrive/name_model/tokenizer4.pickle', 'rb'))"
      ],
      "metadata": {
        "id": "MHtsWtGcFHgi"
      },
      "execution_count": 43,
      "outputs": []
    },
    {
      "cell_type": "code",
      "source": [
        "def _preprocess(list_of_text):\n",
        "    return pad_sequences(\n",
        "        tokenizer.texts_to_sequences(list_of_text),\n",
        "        maxlen=max_len,\n",
        "        padding='post',\n",
        "    )\n",
        "def predict_acc(name):\n",
        "  pre_name=_preprocess([name])  \n",
        "  label=reconstructed_model.predict(pre_name)[0][0]\n",
        "  return label\n"
      ],
      "metadata": {
        "id": "hbnMI4bRqtlo"
      },
      "execution_count": 39,
      "outputs": []
    },
    {
      "cell_type": "code",
      "source": [
        "# Detect label of predictions\n",
        "def make_label(list_of_preds):\n",
        "  \"This function takes list of accuracies of predictions and returns a label 1 of valid name and 0 if invalid name\"\n",
        "  y_pred_labels=[]\n",
        "  for i in range(len(list_of_preds)):\n",
        "      if list_of_preds[i] > 0.9: #our chosen threshold\n",
        "          y_pred_labels.append(1)\n",
        "      else:\n",
        "          y_pred_labels.append(0)\n",
        "  return y_pred_labels[0]"
      ],
      "metadata": {
        "id": "wacm8YEDUMNR"
      },
      "execution_count": 63,
      "outputs": []
    },
    {
      "cell_type": "code",
      "source": [
        "name= \"آية هشام أحمد\"\n",
        "acc=predict_acc(name)\n",
        "acc"
      ],
      "metadata": {
        "colab": {
          "base_uri": "https://localhost:8080/"
        },
        "id": "wk86Cc7nP9Dk",
        "outputId": "8f326ae4-beb7-4c38-ea06-cae07e50e679"
      },
      "execution_count": 79,
      "outputs": [
        {
          "output_type": "stream",
          "name": "stdout",
          "text": [
            "1/1 [==============================] - 0s 26ms/step\n"
          ]
        },
        {
          "output_type": "execute_result",
          "data": {
            "text/plain": [
              "0.99159855"
            ]
          },
          "metadata": {},
          "execution_count": 79
        }
      ]
    },
    {
      "cell_type": "code",
      "source": [
        "make_label([acc])"
      ],
      "metadata": {
        "colab": {
          "base_uri": "https://localhost:8080/"
        },
        "id": "Rbf_v9YSI2tv",
        "outputId": "518d0034-8e50-495a-e390-f651c8e9cbf9"
      },
      "execution_count": 64,
      "outputs": [
        {
          "output_type": "execute_result",
          "data": {
            "text/plain": [
              "1"
            ]
          },
          "metadata": {},
          "execution_count": 64
        }
      ]
    },
    {
      "cell_type": "code",
      "source": [],
      "metadata": {
        "id": "RiahKMgMKTMA"
      },
      "execution_count": null,
      "outputs": []
    }
  ]
}